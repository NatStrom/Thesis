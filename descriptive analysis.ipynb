{
 "cells": [
  {
   "cell_type": "markdown",
   "id": "a2e9bc33-ed0c-4f7a-8b3f-450d1e4caa69",
   "metadata": {},
   "source": [
    "# Descriptive Analysis ##2"
   ]
  },
  {
   "cell_type": "code",
   "execution_count": null,
   "id": "79e3a274-1b1d-4122-ac56-9cd303947032",
   "metadata": {},
   "outputs": [],
   "source": []
  }
 ],
 "metadata": {
  "kernelspec": {
   "display_name": "Python [conda env:viewser] *",
   "language": "python",
   "name": "conda-env-viewser-py"
  },
  "language_info": {
   "codemirror_mode": {
    "name": "ipython",
    "version": 3
   },
   "file_extension": ".py",
   "mimetype": "text/x-python",
   "name": "python",
   "nbconvert_exporter": "python",
   "pygments_lexer": "ipython3",
   "version": "3.9.13"
  }
 },
 "nbformat": 4,
 "nbformat_minor": 5
}
