{
 "cells": [
  {
   "cell_type": "code",
   "execution_count": 2,
   "id": "77f290a1-cc5b-4218-82ac-c7ee00f9855f",
   "metadata": {},
   "outputs": [
    {
     "name": "stdout",
     "output_type": "stream",
     "text": [
      "Requirement already satisfied: pip in /Users/NatStrom/opt/miniconda3/envs/viewser/lib/python3.9/site-packages (22.2.2)\n",
      "Collecting nbmerge\n",
      "  Downloading nbmerge-0.0.4.tar.gz (7.6 kB)\n",
      "  Preparing metadata (setup.py) ... \u001b[?25ldone\n",
      "\u001b[?25hBuilding wheels for collected packages: nbmerge\n",
      "  Building wheel for nbmerge (setup.py) ... \u001b[?25ldone\n",
      "\u001b[?25h  Created wheel for nbmerge: filename=nbmerge-0.0.4-py2.py3-none-any.whl size=6393 sha256=7909ed1ecc94b85a6c6872e50efec2af89a5074f78419b4bc78d29a44ab8f7a3\n",
      "  Stored in directory: /Users/NatStrom/Library/Caches/pip/wheels/0b/a8/31/4ae563f674b488c82ee72cfe0f86487c21532db97ae910b264\n",
      "Successfully built nbmerge\n",
      "Installing collected packages: nbmerge\n",
      "Successfully installed nbmerge-0.0.4\n",
      "Note: you may need to restart the kernel to use updated packages.\n"
     ]
    }
   ],
   "source": [
    "pip install pip nbmerge"
   ]
  },
  {
   "cell_type": "code",
   "execution_count": 3,
   "id": "e390698a-8f6f-44ac-ae64-bc6e598e1aa1",
   "metadata": {},
   "outputs": [],
   "source": [
    "\n",
    "\n",
    "!nbmerge DALY_WASH.ipynb ucdp_thesis.ipynb controls.ipynb merge_thesis.ipynb Analysis.ipynb > merged_ouput.ipynb "
   ]
  }
 ],
 "metadata": {
  "kernelspec": {
   "display_name": "Python [conda env:viewser] *",
   "language": "python",
   "name": "conda-env-viewser-py"
  },
  "language_info": {
   "codemirror_mode": {
    "name": "ipython",
    "version": 3
   },
   "file_extension": ".py",
   "mimetype": "text/x-python",
   "name": "python",
   "nbconvert_exporter": "python",
   "pygments_lexer": "ipython3",
   "version": "3.9.13"
  }
 },
 "nbformat": 4,
 "nbformat_minor": 5
}
