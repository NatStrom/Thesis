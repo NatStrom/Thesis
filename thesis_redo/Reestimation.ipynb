{
 "cells": [
  {
   "cell_type": "markdown",
   "id": "b2c31b61-739d-4766-b3fe-b0be94c321da",
   "metadata": {},
   "source": [
    "# Re-estimation of Analysis"
   ]
  },
  {
   "cell_type": "code",
   "execution_count": null,
   "id": "5fa52ada-1ee2-4a7a-9187-c8fb25987372",
   "metadata": {},
   "outputs": [],
   "source": [
    "import pandas as pd\n",
    "import numpy as np\n",
    "import os\n",
    "\n",
    "import matplotlib.pyplot as plt\n",
    "from matplotlib.pyplot import figure\n",
    "import statsmodels"
   ]
  },
  {
   "cell_type": "code",
   "execution_count": null,
   "id": "ac701d4c-f018-4468-855b-505bb48d552d",
   "metadata": {
    "tags": []
   },
   "outputs": [],
   "source": [
    "#%run Documents/GitHub/Thesis/DALY_WASH.ipynb\n",
    "#%run Documents/GitHub/Thesis/ucdp_thesis.ipynb\n",
    "#%run Documents/GitHub/Thesis/controls.ipynb\n",
    "#%run Documents/GitHub/Thesis/merge_thesis.ipynb"
   ]
  },
  {
   "cell_type": "code",
   "execution_count": null,
   "id": "60fb40c2-c86a-44fa-aa8a-cf26c75401de",
   "metadata": {},
   "outputs": [],
   "source": [
    "##set a working directory\n",
    "user = os.path.expanduser('~')\n",
    "display(user)\n",
    "os.makedirs(f'{user}/Desktop/private/thesis/', exist_ok=True)\n",
    "path = os.chdir(f'{user}/Desktop/'+'private/thesis/')\n"
   ]
  },
  {
   "cell_type": "code",
   "execution_count": null,
   "id": "7ec50e95-b48a-46b6-a51c-59e05bf1d837",
   "metadata": {},
   "outputs": [],
   "source": [
    "data =pd.read_csv('data_final.csv')\n",
    "print(data.columns)\n",
    "display(data.describe())"
   ]
  },
  {
   "cell_type": "code",
   "execution_count": null,
   "id": "3fa2be9a-28c5-4ea5-910d-4b2f3659219d",
   "metadata": {},
   "outputs": [],
   "source": [
    "#import population size\n",
    "dta = pd.read_csv('pop_size.csv',skiprows= 4)\n",
    "display(dta.columns)\n",
    "display(dta)\n",
    "\n",
    "#clean up\n",
    "dta = dta.drop(columns=['Country Name','Indicator Name', 'Indicator Code','Unnamed: 67'])\n",
    "dta = dta.rename(columns= {'Country Code':'iso'})\n",
    "dta = dta.melt(id_vars='iso',var_name='year_id',value_name='pop_size')\n",
    "dta['year_id'] = dta['year_id'].astype(str).astype(int)\n",
    "\n",
    "## only years from 1990 onwards\n",
    "dta = dta.loc[dta['year_id'] >= 1990]\n",
    "dta = dta.loc[dta['year_id'] <= 2019]\n",
    "#only countries in SSA\n",
    "dta = dta.loc[dta['iso'].isin(['AGO', 'BDI', 'BEN', 'BFA', 'BWA', 'CAF', 'CIV', 'CMR', 'COD',\n",
    "       'COG', 'COM', 'CPV', 'DJI', 'ERI', 'ETH', 'GAB', 'GHA', 'GIN',\n",
    "       'GMB', 'GNB', 'GNQ', 'KEN', 'LBR', 'LSO', 'MDG', 'MLI', 'MOZ',\n",
    "       'MRT', 'MWI', 'NAM', 'NER', 'NGA', 'RWA', 'SDN', 'SEN', 'SLE',\n",
    "       'SOM', 'SSD', 'STP', 'SWZ', 'TCD', 'TGO', 'TZA', 'UGA', 'ZAF',\n",
    "       'ZMB', 'ZWE'])]\n",
    "\n",
    "#save\n",
    "dta.to_csv('data_pop_size.csv')"
   ]
  },
  {
   "cell_type": "code",
   "execution_count": null,
   "id": "487f6462-dc62-43da-b584-384d80aa3ed1",
   "metadata": {},
   "outputs": [],
   "source": [
    "#merge the datasets on iso and year\n",
    "data = pd.merge(data, dta, how=\"outer\", on=[\"iso\", \"year_id\"])\n",
    "print(data.year_id.unique())"
   ]
  },
  {
   "cell_type": "markdown",
   "id": "d593ee8e-2609-4a81-b20a-24c777cf3eaf",
   "metadata": {},
   "source": [
    "# Vizualisation"
   ]
  },
  {
   "cell_type": "code",
   "execution_count": null,
   "id": "3af6e778-25ed-4ea9-a0c7-94dc5cbbfc18",
   "metadata": {},
   "outputs": [],
   "source": [
    "#time trend of the data\n",
    "grouped = data.groupby(['iso', 'year_id']).agg({'daly_all': 'sum'})\n",
    "top_countries = grouped.groupby('iso').agg({'daly_all': 'sum'}).nlargest(10, 'daly_all').index.tolist()\n",
    "filtered = grouped[grouped.index.get_level_values('iso').isin(top_countries)]\n",
    "\n",
    "pivoted = filtered.reset_index().pivot(index='year_id', columns='iso', values='daly_all')\n",
    "pivoted.plot.area(stacked=False)\n",
    "\n",
    "plt.xlabel('Year')\n",
    "plt.ylabel('DALY/ 100.000 people')\n",
    "plt.savefig('timetrend_daly.png')\n",
    "# Show the plot\n",
    "plt.show()"
   ]
  },
  {
   "cell_type": "code",
   "execution_count": null,
   "id": "20162886-f087-48a5-9558-9c5a0fc02043",
   "metadata": {},
   "outputs": [],
   "source": [
    "#time trend of the data\n",
    "grouped = data.groupby(['iso', 'year_id']).agg({'best_log': 'sum'})\n",
    "top_countries = grouped.groupby('iso').agg({'best_log': 'sum'}).nlargest(10, 'best_log').index.tolist()\n",
    "filtered = grouped[grouped.index.get_level_values('iso').isin(top_countries)]\n",
    "\n",
    "# Pivot the data to create a column for each donor and a row for each year\n",
    "pivoted = filtered.reset_index().pivot(index='year_id', columns='iso', values='best_log')\n",
    "pivoted.plot.area(stacked=False)\n",
    "\n",
    "plt.xlabel('Year')\n",
    "plt.ylabel('Conflict fatalities (best estimate)')\n",
    "plt.savefig('timetrend_conflict.png')\n",
    "\n",
    "# Show the plot\n",
    "plt.show()"
   ]
  },
  {
   "cell_type": "code",
   "execution_count": null,
   "id": "4c655241-33f8-47cf-b820-9fbe7f83d0bf",
   "metadata": {},
   "outputs": [],
   "source": [
    "# combined plot\n",
    "grouped_1 = data.groupby(['year_id']).agg({'best_log': 'sum'})\n",
    "grouped_2 = data.groupby(['year_id']).agg({'daly_all': 'sum'})\n",
    "grouped_1 = grouped_1.reset_index()\n",
    "grouped_2 = grouped_2.reset_index()\n",
    "display(grouped_1)\n",
    "display(grouped_2)\n",
    "# create figure and axis objects with subplots()\n",
    "fig,ax = plt.subplots()\n",
    "# make a plot\n",
    "ax.plot(grouped_2.year_id,\n",
    "        grouped_2.daly_all,\n",
    "        color=\"green\")\n",
    "# set x-axis label\n",
    "ax.set_xlabel(\"year\", fontsize = 10)\n",
    "# set y-axis label\n",
    "ax.set_ylabel(\"DALY/ 100.000 people\",\n",
    "              color=\"green\",\n",
    "              fontsize=10)\n",
    "\n",
    "\n",
    "# twin object for two different y-axis on the sample plot\n",
    "ax2=ax.twinx()\n",
    "# make a plot with different y-axis using second axis object\n",
    "ax2.plot(grouped_1.year_id, grouped_1[\"best_log\"],color=\"blue\")\n",
    "ax2.set_ylabel(\"conflict fatalities\",color=\"blue\",fontsize=10)\n",
    "plt.savefig('timetrend_combined.png')\n",
    "plt.show()"
   ]
  },
  {
   "cell_type": "markdown",
   "id": "36383810-eabe-4be1-9381-17cd1730dfe8",
   "metadata": {},
   "source": [
    "# start the reestimation by defining type of conflict"
   ]
  },
  {
   "cell_type": "code",
   "execution_count": null,
   "id": "79f1f344-6032-4d91-883f-b90c96824e2d",
   "metadata": {},
   "outputs": [],
   "source": [
    "#define datasets with the different types of conflict\n",
    "data_sb = data.loc[data['type_of_violence'] == 'sb']\n",
    "display(data_sb)\n",
    "\n",
    "data_ns = data.loc[data['type_of_violence'] == 'ns']\n",
    "display(data_ns)\n",
    "\n",
    "data_os = data.loc[data['type_of_violence'] == 'os']\n",
    "display(data_os)"
   ]
  },
  {
   "cell_type": "markdown",
   "id": "5876a34e-cf76-493c-8446-90c80538a0e9",
   "metadata": {},
   "source": [
    "# Model with fatalities estimate"
   ]
  },
  {
   "cell_type": "code",
   "execution_count": null,
   "id": "24bf9199-68c2-46d7-92dc-9891b8a3a366",
   "metadata": {},
   "outputs": [],
   "source": [
    "#the country fixed effects model LAGS\n",
    "from linearmodels.panel import PanelOLS\n",
    "data1 = data.set_index(['iso','year_id'])\n",
    "y= data1['daly_all']\n",
    "x= data1[['best_log','lag_best_1','lag_best_2','lag_best_3','lag_best_4','lag_best_5','lag_best_6','lag_best_7','lag_best_8','lag_best_9','lag_best_10']]\n",
    "mod = PanelOLS(y,x, entity_effects=True,time_effects=False)\n",
    "fat = mod.fit(cov_type='clustered', cluster_entity=True)\n",
    "with open('results_conflict_history.txt', 'w') as f:\n",
    "    f.write(fat.summary.as_text())\n",
    "print(fat)"
   ]
  },
  {
   "cell_type": "code",
   "execution_count": null,
   "id": "40630824-c88d-4ace-a279-6507fe382a71",
   "metadata": {},
   "outputs": [],
   "source": [
    "#the country fixed effects model LAGS\n",
    "from linearmodels.panel import PanelOLS\n",
    "data1 = data_sb.set_index(['iso','year_id'])\n",
    "y= data1['daly_all']\n",
    "x= data1[['best_log','lag_best_1','lag_best_2','lag_best_3','lag_best_4','lag_best_5','lag_best_6','lag_best_7','lag_best_8','lag_best_9','lag_best_10']]\n",
    "mod = PanelOLS(y,x, entity_effects=True,time_effects=False)\n",
    "fat_sb = mod.fit(cov_type='clustered', cluster_entity=True)\n",
    "with open('results_conflict_history_sb.txt', 'w') as f:\n",
    "    f.write(fat_sb.summary.as_text())\n",
    "print(fat_sb)"
   ]
  },
  {
   "cell_type": "code",
   "execution_count": null,
   "id": "953b123a-276e-45ee-a9b8-59bfca27641e",
   "metadata": {},
   "outputs": [],
   "source": [
    "#the country fixed effects model LAGS\n",
    "from linearmodels.panel import PanelOLS\n",
    "data1 = data_os.set_index(['iso','year_id'])\n",
    "y= data1['daly_all']\n",
    "x= data1[['best_log','lag_best_1','lag_best_2','lag_best_3','lag_best_4','lag_best_5','lag_best_6','lag_best_7','lag_best_8','lag_best_9','lag_best_10']]\n",
    "mod = PanelOLS(y,x, entity_effects=True,time_effects=False)\n",
    "fat_os = mod.fit(cov_type='clustered', cluster_entity=True)\n",
    "with open('results_conflict_history_os.txt', 'w') as f:\n",
    "    f.write(fat_os.summary.as_text())\n",
    "print(fat_os)"
   ]
  },
  {
   "cell_type": "code",
   "execution_count": null,
   "id": "1bac1f54-7657-4782-830a-763fe3b854d0",
   "metadata": {},
   "outputs": [],
   "source": [
    "#the country fixed effects model LAGS\n",
    "from linearmodels.panel import PanelOLS\n",
    "data1 = data_ns.set_index(['iso','year_id'])\n",
    "y= data1['daly_all']\n",
    "x= data1[['best_log','lag_best_1','lag_best_2','lag_best_3','lag_best_4','lag_best_5','lag_best_6','lag_best_7','lag_best_8','lag_best_9','lag_best_10']]\n",
    "mod = PanelOLS(y,x, entity_effects=True,time_effects=False)\n",
    "fat_ns = mod.fit(cov_type='clustered', cluster_entity=True)\n",
    "with open('results_conflict_history_ns.txt', 'w') as f:\n",
    "    f.write(fat_os.summary.as_text())\n",
    "print(fat_ns)"
   ]
  },
  {
   "cell_type": "markdown",
   "id": "950eb7d1-5f21-42e2-b8e5-2f6cb8824066",
   "metadata": {},
   "source": [
    "# specification models"
   ]
  },
  {
   "cell_type": "markdown",
   "id": "1cfa774c-c964-4107-8cdb-d1958f918d99",
   "metadata": {},
   "source": [
    "# STANDARD"
   ]
  },
  {
   "cell_type": "code",
   "execution_count": null,
   "id": "b217a938-e565-4b51-8eeb-b65d09a4d18e",
   "metadata": {},
   "outputs": [],
   "source": [
    "# specification models without conflict history\n",
    "#the country fixed effects model STANDARD\n",
    "from linearmodels.panel import PanelOLS\n",
    "data1 = data.set_index(['iso','year_id'])\n",
    "y= data1['daly_all']\n",
    "x= data1[['best_log','pop_size','gdp_log', 'age0014_value','xpd_gdp_value','lag_best_1','lag_best_2','lag_best_3','lag_best_4','lag_best_5','lag_best_6','lag_best_7','lag_best_8','lag_best_9','lag_best_10']]\n",
    "mod = PanelOLS(y,x, entity_effects=True,time_effects=False)\n",
    "standard_spec = mod.fit(cov_type='clustered', cluster_entity=True)\n",
    "with open('resuts_standard.txt', 'w') as f:\n",
    "    f.write(standard_spec.summary.as_text())\n",
    "print(standard_spec)"
   ]
  },
  {
   "cell_type": "code",
   "execution_count": null,
   "id": "e86a69f6-e93f-43b8-acfe-f1ecc26d77a9",
   "metadata": {},
   "outputs": [],
   "source": [
    "# specification models without conflict history\n",
    "#the country fixed effects model STANDARD\n",
    "from linearmodels.panel import PanelOLS\n",
    "data1 = data.set_index(['iso','year_id'])\n",
    "y= data1['daly_all']\n",
    "x= data1[['best_log','pop_size','gdp_log','lag_best_1','lag_best_2','lag_best_3','lag_best_4','lag_best_5','lag_best_6','lag_best_7','lag_best_8','lag_best_9','lag_best_10']]\n",
    "mod = PanelOLS(y,x, entity_effects=True,time_effects=False)\n",
    "standard_spec = mod.fit(cov_type='clustered', cluster_entity=True)\n",
    "with open('resuts_standard.txt', 'w') as f:\n",
    "    f.write(standard_spec.summary.as_text())\n",
    "print(standard_spec)"
   ]
  },
  {
   "cell_type": "code",
   "execution_count": null,
   "id": "3e4f1e1c-ac4c-42b4-877f-2ceb39b44d31",
   "metadata": {},
   "outputs": [],
   "source": [
    "data.columns"
   ]
  },
  {
   "cell_type": "markdown",
   "id": "03b8bb76-b298-4bf3-ba16-8b5da3e0d77b",
   "metadata": {},
   "source": [
    "# HEALTH"
   ]
  },
  {
   "cell_type": "code",
   "execution_count": null,
   "id": "30bbe8f1-3ddc-4fe2-8e82-ce8a0c207b0d",
   "metadata": {},
   "outputs": [],
   "source": [
    "#logtransform the healthworker variable\n",
    "data['healthworker_all_log'] = np.log(data['ihme_healthworkers_all_mean'])\n",
    "display(data)"
   ]
  },
  {
   "cell_type": "code",
   "execution_count": null,
   "id": "9abe53cc-676f-43bc-b985-7c6715a79747",
   "metadata": {},
   "outputs": [],
   "source": [
    "#the country fixed effects model HEALTH\n",
    "from linearmodels.panel import PanelOLS\n",
    "data1 = data.set_index(['iso','year_id'])\n",
    "y= data1['daly_all']\n",
    "x= data1[['best_log','lag_best_1','lag_best_2','lag_best_3','lag_best_4','lag_best_5','lag_best_6','lag_best_7','lag_best_8','lag_best_9','lag_best_10','dah_total_log','healthworker_all_log']]\n",
    "mod = PanelOLS(y,x, entity_effects=True,time_effects=False)\n",
    "health_spec = mod.fit(cov_type='clustered', cluster_entity=True)\n",
    "with open('results_health_specification.txt', 'w') as f:\n",
    "    f.write(health_spec.summary.as_text())\n",
    "print(health_spec)"
   ]
  },
  {
   "cell_type": "markdown",
   "id": "f2aba1ca-6814-44b1-a86e-1b18ee29b2fd",
   "metadata": {},
   "source": [
    "## DISASTER"
   ]
  },
  {
   "cell_type": "code",
   "execution_count": null,
   "id": "3d1927f9-fa65-4643-a50b-8a4821a3ebf9",
   "metadata": {},
   "outputs": [],
   "source": [
    "#logtransform the death variable\n",
    "data['death_tot_log'] = np.log1p(data['death_tot'])"
   ]
  },
  {
   "cell_type": "code",
   "execution_count": null,
   "id": "2dd60369-977e-44b9-b5af-f7c55a6bc3e8",
   "metadata": {},
   "outputs": [],
   "source": [
    "#the country fixed effects model DISASTER\n",
    "from linearmodels.panel import PanelOLS\n",
    "data1 = data.set_index(['iso','year_id'])\n",
    "y= data1['daly_all']\n",
    "x= data1[['best_log','lag_best_1','lag_best_2','lag_best_3','lag_best_4','lag_best_5','lag_best_6','lag_best_7','lag_best_8','lag_best_9','lag_best_10','access_drinkwater_index', 'access_sani_index', 'death_tot_log','gdis_count_lag']]\n",
    "mod = PanelOLS(y,x, entity_effects=True,time_effects=False)\n",
    "disaster_spec = mod.fit(cov_type='clustered', cluster_entity=True)\n",
    "with open('results_disaster_specification.txt', 'w') as f:\n",
    "    f.write(disaster_spec.summary.as_text())\n",
    "print(disaster_spec)"
   ]
  },
  {
   "cell_type": "markdown",
   "id": "4a2911f6-96ae-4bac-b5a6-1fd4377d04f5",
   "metadata": {},
   "source": [
    "## all"
   ]
  },
  {
   "cell_type": "code",
   "execution_count": null,
   "id": "32b4ae80-ae83-4d3a-a0df-08405813917d",
   "metadata": {},
   "outputs": [],
   "source": [
    "#the country fixed effects model ALL\n",
    "from linearmodels.panel import PanelOLS\n",
    "data2 = data.set_index(['iso','year_id'])\n",
    "y= data2['daly_all']\n",
    "x= data2[['best_log','lag_best_1','lag_best_2','lag_best_3','lag_best_4',\n",
    "          'lag_best_5','lag_best_6','lag_best_7','lag_best_8','lag_best_9',\n",
    "          'lag_best_10','pop_size','gdp_log', 'age0014_value','xpd_gdp_value',\n",
    "          'dah_total_log','healthworker_all_log','access_drinkwater_index', \n",
    "          'access_sani_index', 'death_tot_log','gdis_count_lag']]\n",
    "mod = PanelOLS(y,x, entity_effects=True,time_effects=False)\n",
    "model_overfit = mod.fit(cov_type='clustered', cluster_entity=True)\n",
    "with open('results_all.txt', 'w') as f:\n",
    "    f.write(model_overfit.summary.as_text())\n",
    "print(model_overfit)"
   ]
  },
  {
   "cell_type": "markdown",
   "id": "7f75992e-b37b-4453-a5a1-05a7595b0637",
   "metadata": {},
   "source": [
    "## now do it for the lags separately"
   ]
  },
  {
   "cell_type": "markdown",
   "id": "b2810cb1-9fc1-409e-a5b1-e315ef317cce",
   "metadata": {},
   "source": [
    "normal fat estimate"
   ]
  },
  {
   "cell_type": "code",
   "execution_count": null,
   "id": "ca41156c-2154-433a-b43a-d1a1f8f0f0ed",
   "metadata": {},
   "outputs": [],
   "source": [
    "#the country fixed effects model STANDARD\n",
    "from linearmodels.panel import PanelOLS\n",
    "data1 = data.set_index(['iso','year_id'])\n",
    "y= data1['daly_all']\n",
    "x= data1[['best_log','gdp_log', 'age0014_value','xpd_gdp_value',]]\n",
    "mod = PanelOLS(y,x, entity_effects=True,time_effects=False)\n",
    "standard_spec = mod.fit(cov_type='clustered', cluster_entity=True)\n",
    "with open('resuts_standard.txt', 'w') as f:\n",
    "    f.write(standard_spec.summary.as_text())\n",
    "print(standard_spec)"
   ]
  },
  {
   "cell_type": "code",
   "execution_count": null,
   "id": "36bb130e-3a40-415c-a3fa-9a34633a33c1",
   "metadata": {},
   "outputs": [],
   "source": [
    "#the country fixed effects model HEALTH\n",
    "from linearmodels.panel import PanelOLS\n",
    "data1 = data.set_index(['iso','year_id'])\n",
    "y= data1['daly_all']\n",
    "x= data1[['best_log','dah_total_log','healthworker_all_log']]\n",
    "mod = PanelOLS(y,x, entity_effects=True,time_effects=False)\n",
    "health_spec = mod.fit(cov_type='clustered', cluster_entity=True)\n",
    "with open('results_health_specification.txt', 'w') as f:\n",
    "    f.write(health_spec.summary.as_text())\n",
    "print(health_spec)"
   ]
  },
  {
   "cell_type": "code",
   "execution_count": null,
   "id": "6b188435-60d2-44a9-8de9-5b81a5c32b86",
   "metadata": {},
   "outputs": [],
   "source": [
    "#the country fixed effects model DISASTER\n",
    "from linearmodels.panel import PanelOLS\n",
    "data1 = data.set_index(['iso','year_id'])\n",
    "y= data1['daly_all']\n",
    "x= data1[['best_log','access_drinkwater_index', 'access_sani_index', 'death_tot_log','gdis_count_lag']]\n",
    "mod = PanelOLS(y,x, entity_effects=True,time_effects=False)\n",
    "disaster_spec = mod.fit(cov_type='clustered', cluster_entity=True)\n",
    "with open('results_disaster_specification.txt', 'w') as f:\n",
    "    f.write(disaster_spec.summary.as_text())\n",
    "print(disaster_spec)"
   ]
  },
  {
   "cell_type": "markdown",
   "id": "fa1da19f-fe68-4648-93e2-8963adfd4283",
   "metadata": {},
   "source": [
    "lag 5"
   ]
  },
  {
   "cell_type": "code",
   "execution_count": null,
   "id": "1d898743-54be-44b5-9e16-0c4bbfc6babb",
   "metadata": {},
   "outputs": [],
   "source": [
    "# lag 5\n",
    "#the country fixed effects model standard\n",
    "from linearmodels.panel import PanelOLS\n",
    "data2 = data.set_index(['iso','year_id'])\n",
    "y= data2['daly_all']\n",
    "x= data2[['lag_best_5','gdp_log', 'age0014_value','xpd_gdp_value']]\n",
    "mod = PanelOLS(y,x, entity_effects=True,time_effects=False)\n",
    "standard_lag5 = mod.fit(cov_type='clustered', cluster_entity=True)\n",
    "with open('results_all.txt', 'w') as f:\n",
    "    f.write(standard_lag5.summary.as_text())\n",
    "print(standard_lag5)"
   ]
  },
  {
   "cell_type": "code",
   "execution_count": null,
   "id": "e9902e5d-03f1-4c14-bb1c-b788001f31b7",
   "metadata": {},
   "outputs": [],
   "source": [
    "# lag 5\n",
    "#the country fixed effects model health\n",
    "from linearmodels.panel import PanelOLS\n",
    "data2 = data.set_index(['iso','year_id'])\n",
    "y= data2['daly_all']\n",
    "x= data2[['lag_best_5','dah_total_log','healthworker_all_log']]\n",
    "mod = PanelOLS(y,x, entity_effects=True,time_effects=False)\n",
    "health_lag5 = mod.fit(cov_type='clustered', cluster_entity=True)\n",
    "with open('results_all.txt', 'w') as f:\n",
    "    f.write(health_lag5.summary.as_text())\n",
    "print(health_lag5)"
   ]
  },
  {
   "cell_type": "code",
   "execution_count": null,
   "id": "44871dd5-a778-4cce-8e5c-c855abd2556d",
   "metadata": {},
   "outputs": [],
   "source": [
    "# lag 5\n",
    "#the country fixed effects model disaster\n",
    "from linearmodels.panel import PanelOLS\n",
    "data2 = data.set_index(['iso','year_id'])\n",
    "y= data2['daly_all']\n",
    "x= data2[['lag_best_5','access_drinkwater_index', 'access_sani_index', 'death_tot_log','gdis_count_lag']]\n",
    "mod = PanelOLS(y,x, entity_effects=True,time_effects=False)\n",
    "disaster_lag5 = mod.fit(cov_type='clustered', cluster_entity=True)\n",
    "with open('results_all.txt', 'w') as f:\n",
    "    f.write(disaster_lag5.summary.as_text())\n",
    "print(disaster_lag5)"
   ]
  },
  {
   "cell_type": "markdown",
   "id": "04228810-a437-4663-bc01-9ec03171cc27",
   "metadata": {},
   "source": [
    "lag 10"
   ]
  },
  {
   "cell_type": "code",
   "execution_count": null,
   "id": "c764cde0-a2d8-4c98-a7be-186e00daefe6",
   "metadata": {},
   "outputs": [],
   "source": [
    "# lag 10\n",
    "#the country fixed effects model standard\n",
    "from linearmodels.panel import PanelOLS\n",
    "data2 = data.set_index(['iso','year_id'])\n",
    "y= data2['daly_all']\n",
    "x= data2[['lag_best_10','gdp_log','age0014_value','xpd_gdp_value']]\n",
    "mod = PanelOLS(y,x, entity_effects=True,time_effects=False)\n",
    "standard_lag10 = mod.fit(cov_type='clustered', cluster_entity=True)\n",
    "with open('results_all.txt', 'w') as f:\n",
    "    f.write(standard_lag10.summary.as_text())\n",
    "print(standard_lag10)"
   ]
  },
  {
   "cell_type": "code",
   "execution_count": null,
   "id": "3c4125c5-d379-4c43-8885-04f08ec9cdd2",
   "metadata": {},
   "outputs": [],
   "source": [
    "# lag 10\n",
    "#the country fixed effects model health\n",
    "from linearmodels.panel import PanelOLS\n",
    "data2 = data.set_index(['iso','year_id'])\n",
    "y= data2['daly_all']\n",
    "x= data2[['lag_best_10','dah_total_log','healthworker_all_log']]\n",
    "mod = PanelOLS(y,x, entity_effects=True,time_effects=False)\n",
    "health_lag10 = mod.fit(cov_type='clustered', cluster_entity=True)\n",
    "with open('results_all.txt', 'w') as f:\n",
    "    f.write(health_lag10.summary.as_text())\n",
    "print(health_lag10)"
   ]
  },
  {
   "cell_type": "code",
   "execution_count": null,
   "id": "5d98e4d6-44a3-4407-b14b-872e1d5b1278",
   "metadata": {},
   "outputs": [],
   "source": [
    "#the country fixed effects model disaster\n",
    "from linearmodels.panel import PanelOLS\n",
    "data2 = data.set_index(['iso','year_id'])\n",
    "y= data2['daly_all']\n",
    "x= data2[['lag_best_10','access_drinkwater_index', 'access_sani_index', 'death_tot_log','gdis_count_lag']]\n",
    "mod = PanelOLS(y,x, entity_effects=True,time_effects=False)\n",
    "disaster_lag10 = mod.fit(cov_type='clustered', cluster_entity=True)\n",
    "with open('results_all.txt', 'w') as f:\n",
    "    f.write(disaster_lag10.summary.as_text())\n",
    "print(disaster_lag10)"
   ]
  },
  {
   "cell_type": "markdown",
   "id": "0551567d-768d-4365-b39e-64765d42ec1c",
   "metadata": {},
   "source": [
    "# plot the estimates for the lags to get the temporal effect"
   ]
  },
  {
   "cell_type": "code",
   "execution_count": null,
   "id": "bdf04a86-02aa-43c2-b416-ce45c05475ad",
   "metadata": {},
   "outputs": [],
   "source": [
    "#choose the version of dependent, this will run only one type of formula at a time, so no groupings by age and sex\n",
    "#additionaly this was made for civil war binary variable, but just in case if we want to do ged, the variable_portion_to_strip should enable the use of something where variable names are identical and t0 or tl1 carry the information on temporal placement of the variable. \n",
    "version_of_dependent = ''\n",
    "variable_portion_to_strip = 'civil_war_binary_'\n",
    "#blank dataframe\n",
    "\n",
    "for ghe_number in ['10', '600', '1510']:\n",
    "    for sex in ['btsx']:\n",
    "        for age_group in ['all_ages']:\n",
    "            var = f\"{version_of_dependent}level1_ghe{ghe_number}_{age_group}_{sex}_rate\"\n",
    "            indep=violence_variables_ln_special+violence_splag+other_controls\n",
    "            indep_in_formula = '+'.join(indep)\n",
    "            \n",
    "            \n",
    "            \n",
    "            model2 = ols(formula=var+f\"~ {indep_in_formula} +C(year_id)+C(country_id)\",data=test).fit()\n",
    "            fe_groups = test.copy()\n",
    "            \n",
    "            for i in [var,'country_id', 'year_id']+indep:\n",
    "                fe_groups = fe_groups[pd.notnull(fe_groups[i])]\n",
    "                \n",
    "            model3 = ols(formula=var+f\"~ {indep_in_formula} + C(year_id)+C(country_id)\",data=fe_groups).fit(cov_type='cluster', cov_kwds={'groups': fe_groups ['country_id']})\n",
    "            \n",
    "            se = round(model3.bse,3)\n",
    "            pvals = round(model3.pvalues,3)\n",
    "            coeff = round(model3.params,10)\n",
    "            nobs = int(model3.nobs)\n",
    "            r2 = round(model3.rsquared_adj, 2)\n",
    "            dep = var\n",
    "            \n",
    "            #things I want to store, age, sex, and ghe type\n",
    "            results_df = pd.DataFrame({\"coeff\":coeff,\"s.e.\":se, \"pvals\":pvals})\n",
    "            results_df = results_df.drop('pvals', axis=1)\n",
    "        \n",
    "\n",
    "            results = results_df.query(f\"index in {violence_variables_ln_special}\")\n",
    "            results = results.copy()\n",
    "            results['order'] = results.index.str.strip(variable_portion_to_strip)\n",
    "            \n",
    "            results['ll'] = results['coeff'] - 1.96*(results['s.e.'])\n",
    "            results['hl'] = results['coeff'] + 1.96*(results['s.e.'])\n",
    "\n",
    "            data = results.copy()\n",
    "            #the following creates the error term which will be used to make the confidence interval\n",
    "            errors = data['coeff'] - data['ll']\n",
    "            data['errors'] = errors\n",
    "\n",
    "            #the following should order things together\n",
    "            #for our case we want them to be age groups\n",
    "            #we need to specify the order of age groups, i want all ages to occur last\n",
    "\n",
    "            custom_dict = dict(zip([f\"tl{i}\" for i in range(10, 0, -1)]+[f\"t{j}\" for j in range(0,11)], range(-10, 11)))\n",
    "            data = data.sort_values(by=['order'], key = lambda x: x.map(custom_dict))\n",
    "            data['variables'] = data.index\n",
    "            \n",
    "            sns.set_context('poster')\n",
    "\n",
    "            #figure, axes, and plot\n",
    "            fig,ax = plt.subplots(figsize = (15,10))\n",
    "            \n",
    "            \n",
    "            data.plot(x='variables', y='coeff', kind='bar', ax=ax, color=['orange']*10 + ['steelblue']*(len(data)-10), fontsize=22, ecolor='black',capsize=0,yerr='errors', legend=False)\n",
    "            \n",
    "            # Set title & labels\n",
    "            plt.title('Coefficients of Features w/ 95% Confidence Intervals',fontsize=30)\n",
    "            ax.set_ylabel('Coefficients',fontsize=22)\n",
    "            ax.set_xlabel('Time',fontsize=22)\n",
    "    \n",
    "            # Coefficients\n",
    "            ax.scatter(x=pd.np.arange(data.shape[0]), marker='o', s=80, y=data['coeff'], color='black')\n",
    "            \n",
    "            ax.set_xticklabels([custom_dict.get(label) for label in data['order']])\n",
    "\n",
    "    \n",
    "            # Line to define zero on the y-axis\n",
    "            ax.axhline(y=0, linestyle='--', color='red', linewidth=1)\n",
    "            \n",
    "            filename = f\"dep_{version_of_dependent}level1_ghe{ghe_number}_{age_group}_{sex}_indep_{variable_portion_to_strip}tlag_tlead_coefficient_plot.png\"\n",
    "            \n",
    "            plt.savefig(f\"{output}figures/{figure_folder}/{filename}\", dpi = 300)\n",
    "            plt.close()"
   ]
  }
 ],
 "metadata": {
  "kernelspec": {
   "display_name": "Python [conda env:viewser] *",
   "language": "python",
   "name": "conda-env-viewser-py"
  },
  "language_info": {
   "codemirror_mode": {
    "name": "ipython",
    "version": 3
   },
   "file_extension": ".py",
   "mimetype": "text/x-python",
   "name": "python",
   "nbconvert_exporter": "python",
   "pygments_lexer": "ipython3",
   "version": "3.9.17"
  }
 },
 "nbformat": 4,
 "nbformat_minor": 5
}
