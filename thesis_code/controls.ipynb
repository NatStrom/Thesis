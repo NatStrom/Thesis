{
 "cells": [
  {
   "cell_type": "markdown",
   "id": "98235fbe-0c45-4ade-bfc7-a0048295e8f3",
   "metadata": {},
   "source": [
    "# Import and clean up of the control variables for my model"
   ]
  },
  {
   "cell_type": "code",
   "execution_count": 1,
   "id": "4cb36987-c0c6-4c22-aa12-3913c32906b2",
   "metadata": {},
   "outputs": [],
   "source": [
    "import pandas as pd\n",
    "import numpy as np\n",
    "import os\n",
    "\n",
    "import matplotlib.pyplot as plt\n",
    "from matplotlib.pyplot import figure\n",
    "\n",
    "import seaborn as sns\n",
    "import sidetable"
   ]
  },
  {
   "cell_type": "code",
   "execution_count": 2,
   "id": "de3315d7-ea6c-4a77-aaf9-70ed2cf42c1d",
   "metadata": {},
   "outputs": [
    {
     "data": {
      "text/plain": [
       "'/Users/NatStrom'"
      ]
     },
     "metadata": {},
     "output_type": "display_data"
    }
   ],
   "source": [
    "##set a working directory\n",
    "user = os.path.expanduser('~')\n",
    "display(user)\n",
    "\n",
    "os.makedirs(f'{user}/Desktop/private/thesis/', exist_ok=True)\n",
    "path = os.chdir(f'{user}/Desktop/'+'private/thesis/control variables/')"
   ]
  },
  {
   "cell_type": "code",
   "execution_count": null,
   "id": "15e9bc1a-c95b-4cc7-b542-0b033363a0e2",
   "metadata": {},
   "outputs": [],
   "source": [
    "#import the ingester extension functions\n",
    "from ingester3.scratch import cache_manager\n",
    "cache_manager()\n",
    "from ingester3.extensions import *\n",
    "\n",
    "import viewser\n",
    "from viewser import Queryset, Column\n",
    "from views_transformation_library import utilities\n",
    "\n",
    "import ingester3\n",
    "from ingester3.Country import Country"
   ]
  },
  {
   "cell_type": "code",
   "execution_count": null,
   "id": "ca32dbdf-a76e-4438-bf9e-339a93c38837",
   "metadata": {},
   "outputs": [],
   "source": [
    "def nullcounts(ser):\n",
    "    return ser.isnull().sum()\n",
    "\n",
    "def custom_describe(frame, func=[nullcounts, 'sum', 'mean', 'median', 'max'],\n",
    "                    numeric_only=True, **kwargs):\n",
    "    if numeric_only:\n",
    "        frame = frame.select_dtypes(include=np.number)\n",
    "    return frame.agg(func, **kwargs)"
   ]
  },
  {
   "cell_type": "markdown",
   "id": "eedd76d5-d888-41da-ae27-554d52a0addf",
   "metadata": {},
   "source": [
    "## 1. WDI indicator"
   ]
  },
  {
   "cell_type": "code",
   "execution_count": null,
   "id": "bdad4ca0-a62b-4ad9-bd3f-26ef5c9512ab",
   "metadata": {
    "tags": []
   },
   "outputs": [],
   "source": [
    "data_age = pd.read_csv('pop0014.csv',skiprows= 4)\n",
    "data_gdp = pd.read_csv('gdp_pcap.csv',skiprows=4)\n",
    "data_xpd_gdp = pd.read_csv('expense_gdp.csv',skiprows=4)"
   ]
  },
  {
   "cell_type": "code",
   "execution_count": null,
   "id": "71320971-4475-4117-8fd1-fb96123a6c13",
   "metadata": {
    "tags": []
   },
   "outputs": [],
   "source": [
    "display(data_age.columns)\n",
    "display(data_xpd_gdp.columns)\n",
    "display(data_gdp.columns)\n",
    "display(data_age)\n",
    "display(data_xpd_gdp)\n",
    "display(data_gdp)"
   ]
  },
  {
   "cell_type": "code",
   "execution_count": null,
   "id": "ce620a38-05fb-436f-9238-0d544c21bfed",
   "metadata": {
    "tags": []
   },
   "outputs": [],
   "source": [
    "#stack, filter and rename the columns\n",
    "##rename\n",
    "data_age = data_age.rename(columns= {'Country Code':'iso'})\n",
    "data_xpd_gdp = data_xpd_gdp.rename(columns= {'Country Code':'iso'})\n",
    "data_gdp = data_gdp.rename(columns= {'Country Code':'iso'})\n",
    "##filter the needed columns\n",
    "data_age = data_age.drop(columns=['Country Name','Indicator Name', 'Indicator Code','Unnamed: 66'])\n",
    "data_xpd_gdp = data_xpd_gdp.drop(columns=['Country Name','Indicator Name', 'Indicator Code','Unnamed: 66'])\n",
    "data_gdp = data_gdp.drop(columns=['Country Name','Indicator Name', 'Indicator Code','Unnamed: 66'])\n",
    "##stack the individual year columns\n",
    "data_age = data_age.melt(id_vars='iso',var_name='year_id',value_name='age0014_value')\n",
    "data_xpd_gdp = data_xpd_gdp.melt(id_vars='iso',var_name='year_id',value_name='xpd_gdp_value')\n",
    "data_gdp = data_gdp.melt(id_vars='iso',var_name='year_id',value_name='gdp_pcap_value')\n",
    "\n",
    "display(data_age)\n",
    "display(data_xpd_gdp)\n",
    "display(data_gdp)"
   ]
  },
  {
   "cell_type": "code",
   "execution_count": null,
   "id": "a3946270-0fbb-4d1b-b9d8-3e95fedd8ef3",
   "metadata": {},
   "outputs": [],
   "source": [
    "data_gdp['year_id'] = data_gdp['year_id'].astype(str).astype(int)\n",
    "data_age['year_id'] = data_age['year_id'].astype(str).astype(int)\n",
    "data_xpd_gdp['year_id'] = data_xpd_gdp['year_id'].astype(str).astype(int)"
   ]
  },
  {
   "cell_type": "code",
   "execution_count": null,
   "id": "1b860fdc-05ed-4f4f-a3f4-812c05b74c95",
   "metadata": {
    "tags": []
   },
   "outputs": [],
   "source": [
    "#merge them together\n",
    "data_wdi = pd.merge(data_age,data_gdp, how=\"outer\", on=[\"iso\", \"year_id\"])\n",
    "data_wdi = pd.merge(data_wdi,data_xpd_gdp, how=\"outer\", on=[\"iso\", \"year_id\"])\n",
    "display(data_wdi)"
   ]
  },
  {
   "cell_type": "code",
   "execution_count": null,
   "id": "6d823593-f261-4a0c-b062-87e05bb2bdb8",
   "metadata": {},
   "outputs": [],
   "source": [
    "## only years from 1980 onwards\n",
    "data_wdi = data_wdi.loc[data_wdi['year_id'] >= 1990]\n",
    "data_wdi = data_wdi.loc[data_wdi['year_id'] <= 2019]"
   ]
  },
  {
   "cell_type": "code",
   "execution_count": null,
   "id": "5d739b85-2de3-42c9-896c-8ff77e99f1d4",
   "metadata": {},
   "outputs": [],
   "source": [
    "data_wdi = data_wdi.loc[data_wdi['iso'].isin(['AGO', 'BDI', 'BEN', 'BFA', 'BWA', 'CAF', 'CIV', 'CMR', 'COD',\n",
    "       'COG', 'COM', 'CPV', 'DJI', 'ERI', 'ETH', 'GAB', 'GHA', 'GIN',\n",
    "       'GMB', 'GNB', 'GNQ', 'KEN', 'LBR', 'LSO', 'MDG', 'MLI', 'MOZ',\n",
    "       'MRT', 'MWI', 'NAM', 'NER', 'NGA', 'RWA', 'SDN', 'SEN', 'SLE',\n",
    "       'SOM', 'SSD', 'STP', 'SWZ', 'TCD', 'TGO', 'TZA', 'UGA', 'ZAF',\n",
    "       'ZMB', 'ZWE'])]"
   ]
  },
  {
   "cell_type": "code",
   "execution_count": null,
   "id": "c61313e4-40bc-40de-bd2a-ce99b3ae5d81",
   "metadata": {},
   "outputs": [],
   "source": [
    "data_wdi"
   ]
  },
  {
   "cell_type": "code",
   "execution_count": null,
   "id": "5dfc9fe0-7729-43e0-b353-cd9ab8b1bd80",
   "metadata": {},
   "outputs": [],
   "source": [
    "#test for missingness\n",
    "#getting the % of missing values in each column\n",
    "values_list = list()\n",
    "cols_list = list() #creating empty lists\n",
    "\n",
    "for col in data_wdi.columns:\n",
    "    pct_missing= np.mean(data_wdi[col].isnull())*100\n",
    "    cols_list.append(col)\n",
    "    values_list.append(pct_missing)\n",
    "\n",
    "pct_missing_df =pd.DataFrame()\n",
    "pct_missing_df[\"col\"] = cols_list\n",
    "pct_missing_df[\"pct_missing\"] = values_list\n",
    "pct_missing_df"
   ]
  },
  {
   "cell_type": "code",
   "execution_count": null,
   "id": "59bf8965-4652-42c7-a330-3134b8d16a6b",
   "metadata": {},
   "outputs": [],
   "source": [
    "custom_describe(data_wdi)"
   ]
  },
  {
   "cell_type": "code",
   "execution_count": null,
   "id": "98e614ef-9230-438f-9aa5-1ea4e4524321",
   "metadata": {
    "tags": []
   },
   "outputs": [],
   "source": [
    "display(data_wdi.stb.freq(['iso','year_id'],value='age0014_value'))\n",
    "display(data_wdi.stb.freq(['iso','year_id'],value='gdp_pcap_value'))\n",
    "display(data_wdi.stb.freq(['iso','year_id'],value='xpd_gdp_value'))"
   ]
  },
  {
   "cell_type": "code",
   "execution_count": null,
   "id": "5af77226-eac7-423e-b43c-6b2b68f9e290",
   "metadata": {
    "tags": []
   },
   "outputs": [],
   "source": [
    "#get a histogram\n",
    "#create histograms for all mean variables\n",
    "figure, axes = plt.subplots(3,1,figsize=(10,55))\n",
    "sns.histplot(data_wdi['age0014_value'],ax=axes[0])\n",
    "sns.histplot(data_wdi['gdp_pcap_value'],ax=axes[1])\n",
    "sns.histplot(data_wdi['xpd_gdp_value'],ax=axes[2])\n",
    "plt.savefig('wdi1.png')"
   ]
  },
  {
   "cell_type": "code",
   "execution_count": null,
   "id": "d4cb08fa-27fc-4b25-9d0f-67de2c1f9a13",
   "metadata": {},
   "outputs": [],
   "source": [
    "#create trendlines\n",
    "figure, axes = plt.subplots(3,1,figsize=(10,60))\n",
    "\n",
    "sns.lineplot(x='year_id',y='age0014_value',data=data_wdi,err_style='bars',ax=axes[0])\n",
    "sns.lineplot(x='year_id',y='gdp_pcap_value',data=data_wdi,err_style='bars',ax=axes[1])\n",
    "sns.lineplot(x='year_id',y='xpd_gdp_value',data=data_wdi,err_style='bars',ax=axes[2])\n",
    "\n",
    "plt.savefig('wdi2.png')"
   ]
  },
  {
   "cell_type": "code",
   "execution_count": null,
   "id": "a27ecce2-6536-4745-88b5-708d9bed4004",
   "metadata": {},
   "outputs": [],
   "source": [
    "#logtransform the wdi_gdp variable\n",
    "data_wdi['gdp_log'] = np.log(data_wdi['gdp_pcap_value'])\n",
    "data_wdi"
   ]
  },
  {
   "cell_type": "code",
   "execution_count": null,
   "id": "36ab278c-b75d-43d2-b85b-fad01ddf19b5",
   "metadata": {
    "tags": []
   },
   "outputs": [],
   "source": [
    "#compare skewed and logtransformed gdp\n",
    "figure, axes = plt.subplots(2,1,figsize=(10,55))\n",
    "sns.histplot(data_wdi['gdp_log'],ax=axes[0])\n",
    "sns.histplot(data_wdi['gdp_pcap_value'],ax=axes[1])\n",
    "plt.savefig('wdi_log.png')"
   ]
  },
  {
   "cell_type": "code",
   "execution_count": null,
   "id": "e9aee009-7f8d-4b00-852e-2457fb0c42c1",
   "metadata": {},
   "outputs": [],
   "source": [
    "#save to csv\n",
    "data_wdi.to_csv('data_wdi.csv')"
   ]
  },
  {
   "cell_type": "markdown",
   "id": "99ee83df-aa78-4144-8591-45099c12e7f0",
   "metadata": {},
   "source": [
    "## 2. Development assistance to health"
   ]
  },
  {
   "cell_type": "code",
   "execution_count": null,
   "id": "9daef2f1-1328-4bfb-897e-82af06de35a9",
   "metadata": {},
   "outputs": [],
   "source": [
    "#load data (already cleaned up)\n",
    "data_dah = pd.read_csv('DAH.csv')\n",
    "display(data_dah)"
   ]
  },
  {
   "cell_type": "code",
   "execution_count": null,
   "id": "edf3647f-a9d0-40c7-a0c0-42f375993d64",
   "metadata": {},
   "outputs": [],
   "source": [
    "data_dah = data_dah.loc[data_dah['iso'].isin(['AGO', 'BDI', 'BEN', 'BFA', 'BWA', 'CAF', 'CIV', 'CMR', 'COD',\n",
    "       'COG', 'COM', 'CPV', 'DJI', 'ERI', 'ETH', 'GAB', 'GHA', 'GIN',\n",
    "       'GMB', 'GNB', 'GNQ', 'KEN', 'LBR', 'LSO', 'MDG', 'MLI', 'MOZ',\n",
    "       'MRT', 'MWI', 'NAM', 'NER', 'NGA', 'RWA', 'SDN', 'SEN', 'SLE',\n",
    "       'SOM', 'SSD', 'STP', 'SWZ', 'TCD', 'TGO', 'TZA', 'UGA', 'ZAF',\n",
    "       'ZMB', 'ZWE'])]"
   ]
  },
  {
   "cell_type": "code",
   "execution_count": null,
   "id": "6d776256-f5be-4be0-a802-1e3a977d1672",
   "metadata": {},
   "outputs": [],
   "source": [
    "custom_describe(data_dah)"
   ]
  },
  {
   "cell_type": "code",
   "execution_count": null,
   "id": "36bd8a66-5634-4489-9fe2-124fe2c685fa",
   "metadata": {},
   "outputs": [],
   "source": [
    "data_dah.columns\n",
    "data_dah = data_dah.filter(['country', 'year_id', 'iso','ihme_dah_total_aid'])"
   ]
  },
  {
   "cell_type": "code",
   "execution_count": null,
   "id": "1f3a7b03-28b5-458a-9ab6-e82411feb084",
   "metadata": {},
   "outputs": [],
   "source": [
    "#check for missingness\n",
    "#getting the % of missing values in each column\n",
    "values_list = list()\n",
    "cols_list = list() #creating empty lists\n",
    "\n",
    "for col in data_dah.columns:\n",
    "    pct_missing= np.mean(data_dah[col].isnull())*100\n",
    "    cols_list.append(col)\n",
    "    values_list.append(pct_missing)\n",
    "\n",
    "pct_missing_df =pd.DataFrame()\n",
    "pct_missing_df[\"col\"] = cols_list\n",
    "pct_missing_df[\"pct_missing\"] = values_list\n",
    "pct_missing_df"
   ]
  },
  {
   "cell_type": "code",
   "execution_count": null,
   "id": "d009672f-e798-4602-8206-abcdc9d396b6",
   "metadata": {
    "tags": []
   },
   "outputs": [],
   "source": [
    "#create histograms for all mean variables\n",
    "\n",
    "sns.histplot(data_dah['ihme_dah_total_aid'],kde= True)\n",
    "\n",
    "plt.savefig('dah1.png')"
   ]
  },
  {
   "cell_type": "code",
   "execution_count": null,
   "id": "ca3c7e53-1792-48eb-a691-70c1bb4c392c",
   "metadata": {
    "tags": []
   },
   "outputs": [],
   "source": [
    "#create trendlines\n",
    "sns.lineplot(x='year_id',y='ihme_dah_total_aid',data=data_dah,err_style='bars')\n",
    "\n",
    "plt.savefig('dah2.png')"
   ]
  },
  {
   "cell_type": "code",
   "execution_count": null,
   "id": "8d52d7b8-69fa-4173-ade9-9f42c18e0e31",
   "metadata": {
    "tags": []
   },
   "outputs": [],
   "source": [
    "#logtransform the aid\n",
    "data_dah['dah_total_log'] = np.log(data_dah['ihme_dah_total_aid'])\n",
    "display(data_dah)\n",
    "\n",
    "figure, axes = plt.subplots(2,1,figsize=(10,55))\n",
    "sns.histplot(data_dah['ihme_dah_total_aid'],ax=axes[0])\n",
    "sns.histplot(data_dah['dah_total_log'],ax=axes[1])\n",
    "\n",
    "plt.savefig('dah_log.png')"
   ]
  },
  {
   "cell_type": "code",
   "execution_count": null,
   "id": "d9209e54-b8fe-4a84-9157-41c454079ab9",
   "metadata": {},
   "outputs": [],
   "source": [
    "custom_describe(data_dah)"
   ]
  },
  {
   "cell_type": "code",
   "execution_count": null,
   "id": "38f605cb-f723-4505-b131-fdd18289a41e",
   "metadata": {},
   "outputs": [],
   "source": [
    "data_dah.to_csv('data_dah.csv')"
   ]
  },
  {
   "cell_type": "markdown",
   "id": "ed44b1ee-7949-424c-b490-4614a502195a",
   "metadata": {},
   "source": [
    "## 3.  WASH, ND-GAIN country indicators"
   ]
  },
  {
   "cell_type": "code",
   "execution_count": null,
   "id": "2be18293-07f9-43aa-9f74-ea57db5f9207",
   "metadata": {
    "tags": []
   },
   "outputs": [],
   "source": [
    "#load data\n",
    "data_water = pd.read_csv('access_drink.csv')\n",
    "data_sani = pd.read_csv('access_sani.csv')\n",
    "display(data_water, data_sani)"
   ]
  },
  {
   "cell_type": "code",
   "execution_count": null,
   "id": "80858f7e-c682-4d75-8e5c-079a8773b8fb",
   "metadata": {},
   "outputs": [],
   "source": [
    "#stack, filter and rename the columns\n",
    "##rename\n",
    "data_water = data_water.rename(columns= {'ISO3':'iso'})\n",
    "data_sani = data_sani.rename(columns= {'ISO3':'iso'})\n",
    "##filter the needed columns\n",
    "data_sani = data_sani.drop(columns=['Name'])\n",
    "data_water = data_water.drop(columns=['Name'])\n",
    "##stack the individual year columns\n",
    "data_water = data_water.melt(id_vars='iso',var_name='year_id',value_name='access_drinkwater_index')\n",
    "data_sani = data_sani.melt(id_vars='iso',var_name='year_id',value_name='access_sani_index')"
   ]
  },
  {
   "cell_type": "code",
   "execution_count": null,
   "id": "3455eb91-d6f5-4276-8434-b65de354623a",
   "metadata": {},
   "outputs": [],
   "source": [
    "display(data_sani.dtypes, data_water.dtypes)\n",
    "data_water['year_id'] = data_water['year_id'].astype(str).astype(int)\n",
    "data_sani['year_id'] = data_sani['year_id'].astype(str).astype(int)"
   ]
  },
  {
   "cell_type": "code",
   "execution_count": null,
   "id": "3a403ae9-f3f9-4eec-a1e3-402ed95ba091",
   "metadata": {},
   "outputs": [],
   "source": [
    "data_wash = pd.merge(data_water,data_sani, how=\"outer\", on=[\"iso\", \"year_id\"])"
   ]
  },
  {
   "cell_type": "code",
   "execution_count": null,
   "id": "55e502b5-d3c3-4af6-b24f-581216fcbeb9",
   "metadata": {},
   "outputs": [],
   "source": [
    "#group by country-year & only filter iso for  SSA)\n",
    "data_wash = data_wash.loc[data_wash['iso'].isin(['AGO', 'BDI', 'BEN', 'BFA', 'BWA', 'CAF', 'CIV', 'CMR', 'COD',\n",
    "       'COG', 'COM', 'CPV', 'DJI', 'ERI', 'ETH', 'GAB', 'GHA', 'GIN',\n",
    "       'GMB', 'GNB', 'GNQ', 'KEN', 'LBR', 'LSO', 'MDG', 'MLI', 'MOZ',\n",
    "       'MRT', 'MWI', 'NAM', 'NER', 'NGA', 'RWA', 'SDN', 'SEN', 'SLE',\n",
    "       'SOM', 'SSD', 'STP', 'SWZ', 'TCD', 'TGO', 'TZA', 'UGA', 'ZAF',\n",
    "       'ZMB', 'ZWE'])]\n",
    "data_wash = data_wash.groupby(['iso','year_id']).sum().reset_index()\n",
    "display(data_wash)"
   ]
  },
  {
   "cell_type": "code",
   "execution_count": null,
   "id": "8f68f82a-e4f4-46c4-a207-ff42f6f7cc9c",
   "metadata": {},
   "outputs": [],
   "source": [
    "#test for missingness\n",
    "#getting the % of missing values in each column\n",
    "values_list = list()\n",
    "cols_list = list() #creating empty lists\n",
    "\n",
    "for col in data_wash.columns:\n",
    "    pct_missing= np.mean(data_wash[col].isnull())*100\n",
    "    cols_list.append(col)\n",
    "    values_list.append(pct_missing)\n",
    "\n",
    "pct_missing_df =pd.DataFrame()\n",
    "pct_missing_df[\"col\"] = cols_list\n",
    "pct_missing_df[\"pct_missing\"] = values_list\n",
    "pct_missing_df"
   ]
  },
  {
   "cell_type": "code",
   "execution_count": null,
   "id": "95ae9baf-d28f-4d12-9790-da882334ff75",
   "metadata": {},
   "outputs": [],
   "source": [
    "custom_describe(data_wash)"
   ]
  },
  {
   "cell_type": "code",
   "execution_count": null,
   "id": "6aa63c77-3c99-4bd9-bcec-da271c52e91c",
   "metadata": {
    "tags": []
   },
   "outputs": [],
   "source": [
    "figure, axes = plt.subplots(2,1,figsize=(10,60))\n",
    "sns.histplot(data_wash['access_drinkwater_index'],kde = True,ax=axes[0])\n",
    "sns.histplot(data_wash['access_sani_index'],kde = True,ax=axes[1])\n",
    "\n",
    "plt.savefig('wash1.png')"
   ]
  },
  {
   "cell_type": "code",
   "execution_count": null,
   "id": "ca4e6ba1-41b7-4a0d-b05d-9b76a51c5802",
   "metadata": {
    "tags": []
   },
   "outputs": [],
   "source": [
    "#create trendlines\n",
    "figure, axes = plt.subplots(2,1,figsize=(10,60))\n",
    "sns.lineplot(x='year_id',y='access_drinkwater_index',data=data_wash,ax=axes[0])\n",
    "sns.lineplot(x='year_id',y='access_sani_index',data=data_wash,ax=axes[1])\n",
    "\n",
    "plt.savefig('wash2.png')"
   ]
  },
  {
   "cell_type": "code",
   "execution_count": null,
   "id": "74c6f385-8cd9-40b4-aa18-0c76351397f8",
   "metadata": {},
   "outputs": [],
   "source": [
    "data_wash.to_csv('data_wash.csv')"
   ]
  },
  {
   "cell_type": "markdown",
   "id": "4101caf5-cdaa-4b25-8c86-3c599a3577b1",
   "metadata": {},
   "source": [
    "## 4. Exposure and Vulnerability"
   ]
  },
  {
   "cell_type": "code",
   "execution_count": null,
   "id": "05ccf73d-7de9-45a0-9dcd-4e53deb5e8b9",
   "metadata": {},
   "outputs": [],
   "source": [
    "def report(df):\n",
    "    print()\n",
    "    print(f\"A dataset with {len(df.columns)} columns, with \"\n",
    "          f\"data between t {min(df.index.get_level_values(0))} \"\n",
    "          f\"and {max(df.index.get_level_values(0))}. \"\n",
    "          f\"({len(np.unique(df.index.get_level_values(1)))} units)\"\n",
    "          )\n",
    "    return"
   ]
  },
  {
   "cell_type": "code",
   "execution_count": null,
   "id": "4e778b65-bee4-4030-8630-dcaed2c6e04d",
   "metadata": {
    "tags": []
   },
   "outputs": [],
   "source": [
    "#look if the data is already in the views system\n",
    "!viewser tables list"
   ]
  },
  {
   "cell_type": "code",
   "execution_count": null,
   "id": "c5c02ef1-3cb6-41a4-b23c-9bc1fdc81d85",
   "metadata": {},
   "outputs": [],
   "source": [
    "!viewser tables show gdis_pgy"
   ]
  },
  {
   "cell_type": "code",
   "execution_count": null,
   "id": "85488e48-42f9-4996-9ea0-3a5793c16fe8",
   "metadata": {},
   "outputs": [],
   "source": [
    "#define the preliminers t (1990 till 2019) and c_ids\n",
    "#transform pgy into cy\n",
    "data_disaster = (Queryset(\"gdis_pgy\", \"priogrid_year\")\n",
    "                 .with_column(Column(\"gdis_count\", from_table=\"gdis_pgy\", from_column=\"gids_disasterno_count\"))\n",
    "                # .agggregate('sum')\n",
    "                 .with_column(Column(\"gdis_nunique\", from_table=\"gdis_pgy\", from_column=\"gids_disasterno_nunique\"))\n",
    "                # .agggregate('sum')\n",
    "                 .with_column(Column(\"gdis_type\", from_table=\"gdis_pgy\", from_column=\"gids_disastertype_join\")))\n",
    "\n",
    "\n",
    "data_disaster = data_disaster.publish().fetch()\n",
    "\n",
    "data_disaster"
   ]
  },
  {
   "cell_type": "code",
   "execution_count": null,
   "id": "1278070d-f6e5-4b5d-a7fe-ba12750a7426",
   "metadata": {},
   "outputs": [],
   "source": [
    "data_disaster= data_disaster.reset_index()\n",
    "data_disaster = data_disaster.rename(columns={'priogrid_gid':'pg_id'})\n",
    "data_disaster = data_disaster[data_disaster['year_id'] <=2019] \n",
    "data_disaster = data_disaster[data_disaster['year_id'] >=1990] \n",
    "data_disaster = data_disaster[(data_disaster.pgy.lon.between(-10,40)) & (data_disaster.pgy.lat.between(-35,+35))]\n",
    "#filter in africa\n",
    "data_disaster"
   ]
  },
  {
   "cell_type": "code",
   "execution_count": null,
   "id": "94b99aa4-3018-445b-9692-125758bcde49",
   "metadata": {
    "tags": []
   },
   "outputs": [],
   "source": [
    "# Look how easy it is to convert a PGY df to a CY dataframe. Ready for aggregation!\n",
    "data_disaster['c_id'] = data_disaster.pgy.c_id\n",
    "data_disaster"
   ]
  },
  {
   "cell_type": "code",
   "execution_count": null,
   "id": "119f3b98-0915-4130-9132-1b499a551d7a",
   "metadata": {
    "tags": []
   },
   "outputs": [],
   "source": [
    "#get the iso numbers\n",
    "data_disaster['iso'] = data_disaster.c.isoab\n",
    "data_disaster"
   ]
  },
  {
   "cell_type": "code",
   "execution_count": null,
   "id": "20ba45ec-d1b7-4963-9b14-40be902e8247",
   "metadata": {},
   "outputs": [],
   "source": [
    "inspect = data_disaster.loc[data_disaster.iso.isna()]\n",
    "display(inspect)"
   ]
  },
  {
   "cell_type": "code",
   "execution_count": null,
   "id": "1025c13f-dc8b-4a5c-b62f-42c52a342a3d",
   "metadata": {},
   "outputs": [],
   "source": [
    "data_disaster = data_disaster.loc[data_disaster['iso'].isin(['AGO', 'BDI', 'BEN', 'BFA', 'BWA', 'CAF', 'CIV', 'CMR', 'COD',\n",
    "       'COG', 'COM', 'CPV', 'DJI', 'ERI', 'ETH', 'GAB', 'GHA', 'GIN',\n",
    "       'GMB', 'GNB', 'GNQ', 'KEN', 'LBR', 'LSO', 'MDG', 'MLI', 'MOZ',\n",
    "       'MRT', 'MWI', 'NAM', 'NER', 'NGA', 'RWA', 'SDN', 'SEN', 'SLE',\n",
    "       'SOM', 'SSD', 'STP', 'SWZ', 'TCD', 'TGO', 'TZA', 'UGA', 'ZAF',\n",
    "       'ZMB', 'ZWE'])]\n",
    "data_disaster = data_disaster.groupby(['iso','year_id']).sum().reset_index()\n",
    "display(data_disaster)"
   ]
  },
  {
   "cell_type": "code",
   "execution_count": null,
   "id": "0ff863dd-7e6c-4ede-9f8a-e574ac4e2d9f",
   "metadata": {},
   "outputs": [],
   "source": [
    "#clean up columns\n",
    "data_disaster = data_disaster.drop(columns={'c_id'})"
   ]
  },
  {
   "cell_type": "code",
   "execution_count": null,
   "id": "d9ff758f-df21-4121-bdcb-0bc7e9f0fe42",
   "metadata": {
    "tags": []
   },
   "outputs": [],
   "source": [
    "#example distribution plot with kernel densities\n",
    "%matplotlib inline \n",
    "figure, axes = plt.subplots(2,1,figsize=(10,60))\n",
    "sns.displot(data_disaster['gdis_count'],kde=True,ax=axes[0])\n",
    "sns.displot(data_disaster['gdis_nunique'],kde=True,ax=axes[1])\n",
    "plt.savefig('data_disaster1.png')"
   ]
  },
  {
   "cell_type": "code",
   "execution_count": null,
   "id": "c31cae91-2036-4795-bc32-a285b1c6c2a3",
   "metadata": {
    "tags": []
   },
   "outputs": [],
   "source": [
    "#create trendlines\n",
    "figure, axes = plt.subplots(2,1,figsize=(10,60))\n",
    "\n",
    "sns.lineplot(x='year_id',y='gdis_count',data=data_disaster,err_style='bars',ax=axes[0])\n",
    "sns.lineplot(x='year_id',y='gdis_nunique',data=data_disaster,err_style='bars',ax=axes[1])\n",
    "plt.savefig('data_disaster2.png')"
   ]
  },
  {
   "cell_type": "code",
   "execution_count": null,
   "id": "51820b65-6222-4ec0-9a9a-28bd60be0f78",
   "metadata": {},
   "outputs": [],
   "source": [
    "#test for missingness\n",
    "values_list = list()\n",
    "cols_list = list() \n",
    "for col in data_disaster.columns:\n",
    "    pct_missing= np.mean(data_disaster[col].isnull())*100\n",
    "    cols_list.append(col)\n",
    "    values_list.append(pct_missing)\n",
    "\n",
    "pct_missing_df =pd.DataFrame()\n",
    "pct_missing_df[\"col\"] = cols_list\n",
    "pct_missing_df[\"pct_missing\"] = values_list\n",
    "pct_missing_df"
   ]
  },
  {
   "cell_type": "code",
   "execution_count": null,
   "id": "16364678-4834-4e08-8a65-23c80b8792a3",
   "metadata": {},
   "outputs": [],
   "source": [
    "#logtransform the variable\n",
    "data_disaster['gdis_count_lag'] = np.log1p(data_disaster['gdis_count'])\n",
    "display(data_disaster)\n",
    "\n",
    "figure, axes = plt.subplots(2,1,figsize=(10,55))\n",
    "sns.histplot(data_disaster['gdis_count'],ax=axes[0])\n",
    "sns.histplot(data_disaster['gdis_count_lag'],ax=axes[1])\n",
    "\n",
    "plt.savefig('disaster_log.png')"
   ]
  },
  {
   "cell_type": "code",
   "execution_count": null,
   "id": "24cd112d-a9a7-4482-94a4-1613c048177a",
   "metadata": {},
   "outputs": [],
   "source": [
    "data_disaster.to_csv('data_disaster.csv')"
   ]
  },
  {
   "cell_type": "markdown",
   "id": "655aad49-6a31-48d6-9fce-ecad98e95018",
   "metadata": {},
   "source": [
    "# emdat data for vulnerability"
   ]
  },
  {
   "cell_type": "code",
   "execution_count": null,
   "id": "e0071874-ee06-4510-9549-16a0175de7bc",
   "metadata": {},
   "outputs": [],
   "source": [
    "import openpyxl\n",
    "workbook = openpyxl.load_workbook('emdat.xlsx')\n",
    "import openpyxl\n",
    "\n",
    "# Select the worksheet to work with\n",
    "worksheet = workbook['emdat data']\n",
    "all_cells = worksheet.rows\n",
    "\n",
    "# Create an empty list to store the data\n",
    "data = []\n",
    "\n",
    "# Iterate through each row of cells and extract the values\n",
    "for row in all_cells:\n",
    "    row_data = []\n",
    "    for cell in row:\n",
    "        row_data.append(cell.value)\n",
    "    data.append(row_data)\n",
    "\n",
    "# Create a pandas DataFrame from the data\n",
    "data_vn = pd.DataFrame(data)\n",
    "\n",
    "# Optionally, set the column names to the first row of the worksheet\n",
    "data_vn.columns = data_vn.iloc[0]\n",
    "data_vn = data_vn[1:]"
   ]
  },
  {
   "cell_type": "code",
   "execution_count": null,
   "id": "f4274450-b78c-4035-991c-5390a605ef8c",
   "metadata": {},
   "outputs": [],
   "source": [
    "data_vn"
   ]
  },
  {
   "cell_type": "code",
   "execution_count": null,
   "id": "fc664076-8c4c-4477-8837-430e2750b8ed",
   "metadata": {},
   "outputs": [],
   "source": [
    "data_vn.columns"
   ]
  },
  {
   "cell_type": "code",
   "execution_count": null,
   "id": "4c0c5e58-3e3e-422c-9df4-ff37b09fc553",
   "metadata": {},
   "outputs": [],
   "source": [
    "data_vn['Total Deaths'] = data_vn['Total Deaths'].astype(float)\n",
    "data_vn['Total Affected'] = data_vn['Total Affected'].astype(float)\n",
    "data_vn['Year'] = data_vn['Year'].astype(float)"
   ]
  },
  {
   "cell_type": "code",
   "execution_count": null,
   "id": "4615d442-9c8e-4422-bad9-b7a619f5591b",
   "metadata": {},
   "outputs": [],
   "source": [
    "data_vn = data_vn.filter(['Year','ISO','Total Deaths','Total Affected'])\n",
    "#rename the columns\n",
    "data_vn = data_vn.rename(columns={'Year':'year_id','Total Deaths':'death_tot','Total Affected':'tot_affect'})\n",
    "#fix the temporal scope\n",
    "data_vn = data_vn[data_vn['year_id'] >=1990] \n",
    "data_vn = data_vn[data_vn['year_id'] <=2019] "
   ]
  },
  {
   "cell_type": "code",
   "execution_count": null,
   "id": "2a954cfe-100c-486c-bb96-aad2def20bf8",
   "metadata": {},
   "outputs": [],
   "source": [
    "data_vn = data_vn.loc[data_vn['ISO'].isin(['AGO', 'BDI', 'BEN', 'BFA', 'BWA', 'CAF', 'CIV', 'CMR', 'COD',\n",
    "       'COG', 'COM', 'CPV', 'DJI', 'ERI', 'ETH', 'GAB', 'GHA', 'GIN',\n",
    "       'GMB', 'GNB', 'GNQ', 'KEN', 'LBR', 'LSO', 'MDG', 'MLI', 'MOZ',\n",
    "       'MRT', 'MWI', 'NAM', 'NER', 'NGA', 'RWA', 'SDN', 'SEN', 'SLE',\n",
    "       'SOM', 'SSD', 'STP', 'SWZ', 'TCD', 'TGO', 'TZA', 'UGA', 'ZAF',\n",
    "       'ZMB', 'ZWE'])]\n",
    "data_vn = data_vn.groupby(['ISO','year_id']).sum().reset_index()\n",
    "display(data_vn)"
   ]
  },
  {
   "cell_type": "code",
   "execution_count": null,
   "id": "994f3d00-f55f-4788-9788-8c2d10e5145b",
   "metadata": {},
   "outputs": [],
   "source": [
    "data_vn = data_vn.rename(columns={'ISO':'iso'})"
   ]
  },
  {
   "cell_type": "code",
   "execution_count": null,
   "id": "65a048c1-4259-4f14-8812-2c31bbb405d7",
   "metadata": {},
   "outputs": [],
   "source": [
    "#get descriptives\n",
    "custom_describe(data_vn)"
   ]
  },
  {
   "cell_type": "code",
   "execution_count": null,
   "id": "c168f108-8e32-443c-8c2c-aa9ff06822c0",
   "metadata": {
    "tags": []
   },
   "outputs": [],
   "source": [
    "#example distribution plot with kernel densities\n",
    "%matplotlib inline \n",
    "figure, axes = plt.subplots(2,1,figsize=(10,60))\n",
    "\n",
    "sns.displot(data_vn['death_tot'], kde=True, ax= axes[0])\n",
    "sns.displot(data_vn['tot_affect'], kde=True, ax= axes[1])\n",
    "plt.savefig('emdat1.png')"
   ]
  },
  {
   "cell_type": "code",
   "execution_count": null,
   "id": "a54a5e16-f85c-4796-b5ab-ac32de535f6f",
   "metadata": {
    "tags": []
   },
   "outputs": [],
   "source": [
    "#create trendlines\n",
    "figure, axes = plt.subplots(2,1,figsize=(10,60))\n",
    "\n",
    "sns.lineplot(x='year_id',y='death_tot',data=data_vn,err_style='bars',ax=axes[0])\n",
    "sns.lineplot(x='year_id',y='tot_affect',data=data_vn,err_style='bars',ax=axes[1])\n",
    "plt.savefig('emdat2.pdf')"
   ]
  },
  {
   "cell_type": "code",
   "execution_count": null,
   "id": "4f7fdb33-7c43-4521-bbc7-260b6c15db92",
   "metadata": {},
   "outputs": [],
   "source": [
    "#inspect missingness\n",
    "values_list = list()\n",
    "cols_list = list() \n",
    "for col in data_vn.columns:\n",
    "    pct_missing= np.mean(data_vn[col].isnull())*100\n",
    "    cols_list.append(col)\n",
    "    values_list.append(pct_missing)\n",
    "\n",
    "pct_missing_df =pd.DataFrame()\n",
    "pct_missing_df[\"col\"] = cols_list\n",
    "pct_missing_df[\"pct_missing\"] = values_list\n",
    "pct_missing_df"
   ]
  },
  {
   "cell_type": "code",
   "execution_count": null,
   "id": "914f53f3-e7cf-452e-aaa5-646b7aeebe98",
   "metadata": {},
   "outputs": [],
   "source": [
    "data_vn.to_csv('data_vn.csv')"
   ]
  },
  {
   "cell_type": "markdown",
   "id": "21ff0730-8e3e-4262-937a-0660bea84f48",
   "metadata": {},
   "source": [
    "# 6. Universal Health Care Coverage (UHC) + health worker density"
   ]
  },
  {
   "cell_type": "code",
   "execution_count": null,
   "id": "dc9cd55b-d668-4aca-a38c-44fcb38c0fb0",
   "metadata": {},
   "outputs": [],
   "source": [
    "data_uhc = pd.read_csv('Universal Health Coverage.csv')\n",
    "data_worker =pd.read_csv('Health Worker Density.csv')"
   ]
  },
  {
   "cell_type": "code",
   "execution_count": null,
   "id": "11a8224a-6483-4eed-8cac-4e36416ce358",
   "metadata": {},
   "outputs": [],
   "source": [
    "print(data_uhc.dtypes)\n",
    "print(data_uhc.columns)\n",
    "print(data_uhc.describe(include='all'))\n",
    "print(data_uhc.year_id.unique())"
   ]
  },
  {
   "cell_type": "code",
   "execution_count": null,
   "id": "3b550717-1bad-466f-a5c4-d071f1bc9eb9",
   "metadata": {},
   "outputs": [],
   "source": [
    "print(data_worker.dtypes)\n",
    "print(data_worker.columns)\n",
    "print(data_worker.describe(include='all'))\n",
    "print(data_worker.year_id.unique())"
   ]
  },
  {
   "cell_type": "code",
   "execution_count": null,
   "id": "6491eb0e-a0ae-41d5-83e9-17baa7492cdc",
   "metadata": {},
   "outputs": [],
   "source": [
    "data_worker = data_worker.filter(['ihme_healthworkers_all_mean','year_id','iso'])\n",
    "data_worker\n",
    "                           "
   ]
  },
  {
   "cell_type": "code",
   "execution_count": null,
   "id": "e4ffb7e5-dc0b-485d-9770-53749ce9a06f",
   "metadata": {
    "tags": []
   },
   "outputs": [],
   "source": [
    "data_worker = data_worker.loc[data_worker['iso'].isin(['COG', 'MWI', 'MDG', 'GNQ', 'AGO', 'COM', 'ETH', 'ERI', 'BWA',\n",
    "       'BDI', 'CAF', 'NER', 'DJI', 'TCD', 'MRT', 'CPV', 'MOZ', 'ZMB',\n",
    "       'CIV', 'GAB', 'SWZ', 'ZWE', 'BEN', 'COD', 'SOM', 'LSO', 'NAM',\n",
    "       'STP', 'SSD', 'ZAF', 'UGA', 'KEN', 'NGA', 'MLI', 'SDN', 'LBR',\n",
    "       'TGO', 'TZA', 'GMB', 'RWA', 'GIN', 'GHA', 'CMR', 'BFA', 'SEN',\n",
    "       'SLE', 'GNB'])]\n",
    "data_worker = data_worker.groupby(['iso','year_id']).sum().reset_index()\n",
    "display(data_worker)"
   ]
  },
  {
   "cell_type": "code",
   "execution_count": null,
   "id": "2ab74319-e525-4ddf-87f1-51c964b16448",
   "metadata": {},
   "outputs": [],
   "source": [
    "## only years from 1990 onwards\n",
    "data_worker = data_worker.loc[data_uhc['year_id'] >= 1990]"
   ]
  },
  {
   "cell_type": "code",
   "execution_count": null,
   "id": "924534e9-ae0e-4769-b633-9f82d10647ec",
   "metadata": {},
   "outputs": [],
   "source": [
    "#test for missingness\n",
    "#getting the % of missing values in each column\n",
    "values_list = list()\n",
    "cols_list = list() #creating empty lists\n",
    "\n",
    "for col in data_worker.columns:\n",
    "    pct_missing= np.mean(data_worker[col].isnull())*100\n",
    "    cols_list.append(col)\n",
    "    values_list.append(pct_missing)\n",
    "\n",
    "pct_missing_df =pd.DataFrame()\n",
    "pct_missing_df[\"col\"] = cols_list\n",
    "pct_missing_df[\"pct_missing\"] = values_list\n",
    "pct_missing_df"
   ]
  },
  {
   "cell_type": "code",
   "execution_count": null,
   "id": "4e901f56-36df-4d78-9572-23cb1e14d1da",
   "metadata": {},
   "outputs": [],
   "source": [
    "#get a histogram\n",
    "sns.histplot(data_worker['ihme_healthworkers_all_mean'],kde=True)\n",
    "\n",
    "\n",
    "plt.savefig('healthworker1.png')"
   ]
  },
  {
   "cell_type": "code",
   "execution_count": null,
   "id": "c1abe6f2-b20d-4165-b581-5de512a467d3",
   "metadata": {},
   "outputs": [],
   "source": [
    "data_worker.year_id.unique()"
   ]
  },
  {
   "cell_type": "code",
   "execution_count": null,
   "id": "2362c485-273c-4bdc-8ddc-6d08dd4cfd30",
   "metadata": {},
   "outputs": [],
   "source": [
    "#prob need to log the variable"
   ]
  },
  {
   "cell_type": "code",
   "execution_count": null,
   "id": "1657f5b9-a985-4a69-9cd8-5a21873ecd30",
   "metadata": {},
   "outputs": [],
   "source": [
    "#create trendlines\n",
    "\n",
    "\n",
    "sns.lineplot(x='year_id',y='ihme_healthworkers_all_mean',data=data_worker,err_style='bars')\n",
    "plt.savefig('healthworker2.png')"
   ]
  },
  {
   "cell_type": "code",
   "execution_count": null,
   "id": "a85be8eb-fecb-4cf8-931a-392d21dab407",
   "metadata": {},
   "outputs": [],
   "source": [
    "#save to csv\n",
    "data_worker.to_csv('data_hwd.csv')"
   ]
  },
  {
   "cell_type": "code",
   "execution_count": null,
   "id": "c2e99492-2153-498a-be76-018b6d5c31c8",
   "metadata": {},
   "outputs": [],
   "source": [
    "# so the uhc is only reported every 5 years o so and has a lot of missingness – i will impute the data so its a panel from 2000 to 2019 at least"
   ]
  },
  {
   "cell_type": "markdown",
   "id": "a4734677-f50a-4a9d-96c5-08fdbb51ad72",
   "metadata": {},
   "source": [
    "7. Population size"
   ]
  },
  {
   "cell_type": "code",
   "execution_count": 3,
   "id": "63b8827a-0413-486c-8918-ad9677def531",
   "metadata": {},
   "outputs": [
    {
     "data": {
      "text/plain": [
       "Index(['Country Name', 'Country Code', 'Indicator Name', 'Indicator Code',\n",
       "       '1960', '1961', '1962', '1963', '1964', '1965', '1966', '1967', '1968',\n",
       "       '1969', '1970', '1971', '1972', '1973', '1974', '1975', '1976', '1977',\n",
       "       '1978', '1979', '1980', '1981', '1982', '1983', '1984', '1985', '1986',\n",
       "       '1987', '1988', '1989', '1990', '1991', '1992', '1993', '1994', '1995',\n",
       "       '1996', '1997', '1998', '1999', '2000', '2001', '2002', '2003', '2004',\n",
       "       '2005', '2006', '2007', '2008', '2009', '2010', '2011', '2012', '2013',\n",
       "       '2014', '2015', '2016', '2017', '2018', '2019', '2020', '2021', '2022',\n",
       "       'Unnamed: 67'],\n",
       "      dtype='object')"
      ]
     },
     "metadata": {},
     "output_type": "display_data"
    },
    {
     "data": {
      "text/html": [
       "<div>\n",
       "<style scoped>\n",
       "    .dataframe tbody tr th:only-of-type {\n",
       "        vertical-align: middle;\n",
       "    }\n",
       "\n",
       "    .dataframe tbody tr th {\n",
       "        vertical-align: top;\n",
       "    }\n",
       "\n",
       "    .dataframe thead th {\n",
       "        text-align: right;\n",
       "    }\n",
       "</style>\n",
       "<table border=\"1\" class=\"dataframe\">\n",
       "  <thead>\n",
       "    <tr style=\"text-align: right;\">\n",
       "      <th></th>\n",
       "      <th>Country Name</th>\n",
       "      <th>Country Code</th>\n",
       "      <th>Indicator Name</th>\n",
       "      <th>Indicator Code</th>\n",
       "      <th>1960</th>\n",
       "      <th>1961</th>\n",
       "      <th>1962</th>\n",
       "      <th>1963</th>\n",
       "      <th>1964</th>\n",
       "      <th>1965</th>\n",
       "      <th>...</th>\n",
       "      <th>2014</th>\n",
       "      <th>2015</th>\n",
       "      <th>2016</th>\n",
       "      <th>2017</th>\n",
       "      <th>2018</th>\n",
       "      <th>2019</th>\n",
       "      <th>2020</th>\n",
       "      <th>2021</th>\n",
       "      <th>2022</th>\n",
       "      <th>Unnamed: 67</th>\n",
       "    </tr>\n",
       "  </thead>\n",
       "  <tbody>\n",
       "    <tr>\n",
       "      <th>0</th>\n",
       "      <td>Aruba</td>\n",
       "      <td>ABW</td>\n",
       "      <td>Population, total</td>\n",
       "      <td>SP.POP.TOTL</td>\n",
       "      <td>54608.0</td>\n",
       "      <td>55811.0</td>\n",
       "      <td>56682.0</td>\n",
       "      <td>57475.0</td>\n",
       "      <td>58178.0</td>\n",
       "      <td>58782.0</td>\n",
       "      <td>...</td>\n",
       "      <td>103594.0</td>\n",
       "      <td>104257.0</td>\n",
       "      <td>104874.0</td>\n",
       "      <td>105439.0</td>\n",
       "      <td>105962.0</td>\n",
       "      <td>106442.0</td>\n",
       "      <td>106585.0</td>\n",
       "      <td>106537.0</td>\n",
       "      <td>106445.0</td>\n",
       "      <td>NaN</td>\n",
       "    </tr>\n",
       "    <tr>\n",
       "      <th>1</th>\n",
       "      <td>Africa Eastern and Southern</td>\n",
       "      <td>AFE</td>\n",
       "      <td>Population, total</td>\n",
       "      <td>SP.POP.TOTL</td>\n",
       "      <td>130692579.0</td>\n",
       "      <td>134169237.0</td>\n",
       "      <td>137835590.0</td>\n",
       "      <td>141630546.0</td>\n",
       "      <td>145605995.0</td>\n",
       "      <td>149742351.0</td>\n",
       "      <td>...</td>\n",
       "      <td>583651101.0</td>\n",
       "      <td>600008424.0</td>\n",
       "      <td>616377605.0</td>\n",
       "      <td>632746570.0</td>\n",
       "      <td>649757148.0</td>\n",
       "      <td>667242986.0</td>\n",
       "      <td>685112979.0</td>\n",
       "      <td>702977106.0</td>\n",
       "      <td>720839314.0</td>\n",
       "      <td>NaN</td>\n",
       "    </tr>\n",
       "    <tr>\n",
       "      <th>2</th>\n",
       "      <td>Afghanistan</td>\n",
       "      <td>AFG</td>\n",
       "      <td>Population, total</td>\n",
       "      <td>SP.POP.TOTL</td>\n",
       "      <td>8622466.0</td>\n",
       "      <td>8790140.0</td>\n",
       "      <td>8969047.0</td>\n",
       "      <td>9157465.0</td>\n",
       "      <td>9355514.0</td>\n",
       "      <td>9565147.0</td>\n",
       "      <td>...</td>\n",
       "      <td>32716210.0</td>\n",
       "      <td>33753499.0</td>\n",
       "      <td>34636207.0</td>\n",
       "      <td>35643418.0</td>\n",
       "      <td>36686784.0</td>\n",
       "      <td>37769499.0</td>\n",
       "      <td>38972230.0</td>\n",
       "      <td>40099462.0</td>\n",
       "      <td>41128771.0</td>\n",
       "      <td>NaN</td>\n",
       "    </tr>\n",
       "    <tr>\n",
       "      <th>3</th>\n",
       "      <td>Africa Western and Central</td>\n",
       "      <td>AFW</td>\n",
       "      <td>Population, total</td>\n",
       "      <td>SP.POP.TOTL</td>\n",
       "      <td>97256290.0</td>\n",
       "      <td>99314028.0</td>\n",
       "      <td>101445032.0</td>\n",
       "      <td>103667517.0</td>\n",
       "      <td>105959979.0</td>\n",
       "      <td>108336203.0</td>\n",
       "      <td>...</td>\n",
       "      <td>397855507.0</td>\n",
       "      <td>408690375.0</td>\n",
       "      <td>419778384.0</td>\n",
       "      <td>431138704.0</td>\n",
       "      <td>442646825.0</td>\n",
       "      <td>454306063.0</td>\n",
       "      <td>466189102.0</td>\n",
       "      <td>478185907.0</td>\n",
       "      <td>490330870.0</td>\n",
       "      <td>NaN</td>\n",
       "    </tr>\n",
       "    <tr>\n",
       "      <th>4</th>\n",
       "      <td>Angola</td>\n",
       "      <td>AGO</td>\n",
       "      <td>Population, total</td>\n",
       "      <td>SP.POP.TOTL</td>\n",
       "      <td>5357195.0</td>\n",
       "      <td>5441333.0</td>\n",
       "      <td>5521400.0</td>\n",
       "      <td>5599827.0</td>\n",
       "      <td>5673199.0</td>\n",
       "      <td>5736582.0</td>\n",
       "      <td>...</td>\n",
       "      <td>27128337.0</td>\n",
       "      <td>28127721.0</td>\n",
       "      <td>29154746.0</td>\n",
       "      <td>30208628.0</td>\n",
       "      <td>31273533.0</td>\n",
       "      <td>32353588.0</td>\n",
       "      <td>33428486.0</td>\n",
       "      <td>34503774.0</td>\n",
       "      <td>35588987.0</td>\n",
       "      <td>NaN</td>\n",
       "    </tr>\n",
       "    <tr>\n",
       "      <th>...</th>\n",
       "      <td>...</td>\n",
       "      <td>...</td>\n",
       "      <td>...</td>\n",
       "      <td>...</td>\n",
       "      <td>...</td>\n",
       "      <td>...</td>\n",
       "      <td>...</td>\n",
       "      <td>...</td>\n",
       "      <td>...</td>\n",
       "      <td>...</td>\n",
       "      <td>...</td>\n",
       "      <td>...</td>\n",
       "      <td>...</td>\n",
       "      <td>...</td>\n",
       "      <td>...</td>\n",
       "      <td>...</td>\n",
       "      <td>...</td>\n",
       "      <td>...</td>\n",
       "      <td>...</td>\n",
       "      <td>...</td>\n",
       "      <td>...</td>\n",
       "    </tr>\n",
       "    <tr>\n",
       "      <th>261</th>\n",
       "      <td>Kosovo</td>\n",
       "      <td>XKX</td>\n",
       "      <td>Population, total</td>\n",
       "      <td>SP.POP.TOTL</td>\n",
       "      <td>947000.0</td>\n",
       "      <td>966000.0</td>\n",
       "      <td>994000.0</td>\n",
       "      <td>1022000.0</td>\n",
       "      <td>1050000.0</td>\n",
       "      <td>1078000.0</td>\n",
       "      <td>...</td>\n",
       "      <td>1812771.0</td>\n",
       "      <td>1788196.0</td>\n",
       "      <td>1777557.0</td>\n",
       "      <td>1791003.0</td>\n",
       "      <td>1797085.0</td>\n",
       "      <td>1788878.0</td>\n",
       "      <td>1790133.0</td>\n",
       "      <td>1786038.0</td>\n",
       "      <td>1761985.0</td>\n",
       "      <td>NaN</td>\n",
       "    </tr>\n",
       "    <tr>\n",
       "      <th>262</th>\n",
       "      <td>Yemen, Rep.</td>\n",
       "      <td>YEM</td>\n",
       "      <td>Population, total</td>\n",
       "      <td>SP.POP.TOTL</td>\n",
       "      <td>5542459.0</td>\n",
       "      <td>5646668.0</td>\n",
       "      <td>5753386.0</td>\n",
       "      <td>5860197.0</td>\n",
       "      <td>5973803.0</td>\n",
       "      <td>6097298.0</td>\n",
       "      <td>...</td>\n",
       "      <td>27753304.0</td>\n",
       "      <td>28516545.0</td>\n",
       "      <td>29274002.0</td>\n",
       "      <td>30034389.0</td>\n",
       "      <td>30790513.0</td>\n",
       "      <td>31546691.0</td>\n",
       "      <td>32284046.0</td>\n",
       "      <td>32981641.0</td>\n",
       "      <td>33696614.0</td>\n",
       "      <td>NaN</td>\n",
       "    </tr>\n",
       "    <tr>\n",
       "      <th>263</th>\n",
       "      <td>South Africa</td>\n",
       "      <td>ZAF</td>\n",
       "      <td>Population, total</td>\n",
       "      <td>SP.POP.TOTL</td>\n",
       "      <td>16520441.0</td>\n",
       "      <td>16989464.0</td>\n",
       "      <td>17503133.0</td>\n",
       "      <td>18042215.0</td>\n",
       "      <td>18603097.0</td>\n",
       "      <td>19187194.0</td>\n",
       "      <td>...</td>\n",
       "      <td>54729551.0</td>\n",
       "      <td>55876504.0</td>\n",
       "      <td>56422274.0</td>\n",
       "      <td>56641209.0</td>\n",
       "      <td>57339635.0</td>\n",
       "      <td>58087055.0</td>\n",
       "      <td>58801927.0</td>\n",
       "      <td>59392255.0</td>\n",
       "      <td>59893885.0</td>\n",
       "      <td>NaN</td>\n",
       "    </tr>\n",
       "    <tr>\n",
       "      <th>264</th>\n",
       "      <td>Zambia</td>\n",
       "      <td>ZMB</td>\n",
       "      <td>Population, total</td>\n",
       "      <td>SP.POP.TOTL</td>\n",
       "      <td>3119430.0</td>\n",
       "      <td>3219451.0</td>\n",
       "      <td>3323427.0</td>\n",
       "      <td>3431381.0</td>\n",
       "      <td>3542764.0</td>\n",
       "      <td>3658024.0</td>\n",
       "      <td>...</td>\n",
       "      <td>15737793.0</td>\n",
       "      <td>16248230.0</td>\n",
       "      <td>16767761.0</td>\n",
       "      <td>17298054.0</td>\n",
       "      <td>17835893.0</td>\n",
       "      <td>18380477.0</td>\n",
       "      <td>18927715.0</td>\n",
       "      <td>19473125.0</td>\n",
       "      <td>20017675.0</td>\n",
       "      <td>NaN</td>\n",
       "    </tr>\n",
       "    <tr>\n",
       "      <th>265</th>\n",
       "      <td>Zimbabwe</td>\n",
       "      <td>ZWE</td>\n",
       "      <td>Population, total</td>\n",
       "      <td>SP.POP.TOTL</td>\n",
       "      <td>3806310.0</td>\n",
       "      <td>3925952.0</td>\n",
       "      <td>4049778.0</td>\n",
       "      <td>4177931.0</td>\n",
       "      <td>4310332.0</td>\n",
       "      <td>4447149.0</td>\n",
       "      <td>...</td>\n",
       "      <td>13855753.0</td>\n",
       "      <td>14154937.0</td>\n",
       "      <td>14452704.0</td>\n",
       "      <td>14751101.0</td>\n",
       "      <td>15052184.0</td>\n",
       "      <td>15354608.0</td>\n",
       "      <td>15669666.0</td>\n",
       "      <td>15993524.0</td>\n",
       "      <td>16320537.0</td>\n",
       "      <td>NaN</td>\n",
       "    </tr>\n",
       "  </tbody>\n",
       "</table>\n",
       "<p>266 rows × 68 columns</p>\n",
       "</div>"
      ],
      "text/plain": [
       "                    Country Name Country Code     Indicator Name  \\\n",
       "0                          Aruba          ABW  Population, total   \n",
       "1    Africa Eastern and Southern          AFE  Population, total   \n",
       "2                    Afghanistan          AFG  Population, total   \n",
       "3     Africa Western and Central          AFW  Population, total   \n",
       "4                         Angola          AGO  Population, total   \n",
       "..                           ...          ...                ...   \n",
       "261                       Kosovo          XKX  Population, total   \n",
       "262                  Yemen, Rep.          YEM  Population, total   \n",
       "263                 South Africa          ZAF  Population, total   \n",
       "264                       Zambia          ZMB  Population, total   \n",
       "265                     Zimbabwe          ZWE  Population, total   \n",
       "\n",
       "    Indicator Code         1960         1961         1962         1963  \\\n",
       "0      SP.POP.TOTL      54608.0      55811.0      56682.0      57475.0   \n",
       "1      SP.POP.TOTL  130692579.0  134169237.0  137835590.0  141630546.0   \n",
       "2      SP.POP.TOTL    8622466.0    8790140.0    8969047.0    9157465.0   \n",
       "3      SP.POP.TOTL   97256290.0   99314028.0  101445032.0  103667517.0   \n",
       "4      SP.POP.TOTL    5357195.0    5441333.0    5521400.0    5599827.0   \n",
       "..             ...          ...          ...          ...          ...   \n",
       "261    SP.POP.TOTL     947000.0     966000.0     994000.0    1022000.0   \n",
       "262    SP.POP.TOTL    5542459.0    5646668.0    5753386.0    5860197.0   \n",
       "263    SP.POP.TOTL   16520441.0   16989464.0   17503133.0   18042215.0   \n",
       "264    SP.POP.TOTL    3119430.0    3219451.0    3323427.0    3431381.0   \n",
       "265    SP.POP.TOTL    3806310.0    3925952.0    4049778.0    4177931.0   \n",
       "\n",
       "            1964         1965  ...         2014         2015         2016  \\\n",
       "0        58178.0      58782.0  ...     103594.0     104257.0     104874.0   \n",
       "1    145605995.0  149742351.0  ...  583651101.0  600008424.0  616377605.0   \n",
       "2      9355514.0    9565147.0  ...   32716210.0   33753499.0   34636207.0   \n",
       "3    105959979.0  108336203.0  ...  397855507.0  408690375.0  419778384.0   \n",
       "4      5673199.0    5736582.0  ...   27128337.0   28127721.0   29154746.0   \n",
       "..           ...          ...  ...          ...          ...          ...   \n",
       "261    1050000.0    1078000.0  ...    1812771.0    1788196.0    1777557.0   \n",
       "262    5973803.0    6097298.0  ...   27753304.0   28516545.0   29274002.0   \n",
       "263   18603097.0   19187194.0  ...   54729551.0   55876504.0   56422274.0   \n",
       "264    3542764.0    3658024.0  ...   15737793.0   16248230.0   16767761.0   \n",
       "265    4310332.0    4447149.0  ...   13855753.0   14154937.0   14452704.0   \n",
       "\n",
       "            2017         2018         2019         2020         2021  \\\n",
       "0       105439.0     105962.0     106442.0     106585.0     106537.0   \n",
       "1    632746570.0  649757148.0  667242986.0  685112979.0  702977106.0   \n",
       "2     35643418.0   36686784.0   37769499.0   38972230.0   40099462.0   \n",
       "3    431138704.0  442646825.0  454306063.0  466189102.0  478185907.0   \n",
       "4     30208628.0   31273533.0   32353588.0   33428486.0   34503774.0   \n",
       "..           ...          ...          ...          ...          ...   \n",
       "261    1791003.0    1797085.0    1788878.0    1790133.0    1786038.0   \n",
       "262   30034389.0   30790513.0   31546691.0   32284046.0   32981641.0   \n",
       "263   56641209.0   57339635.0   58087055.0   58801927.0   59392255.0   \n",
       "264   17298054.0   17835893.0   18380477.0   18927715.0   19473125.0   \n",
       "265   14751101.0   15052184.0   15354608.0   15669666.0   15993524.0   \n",
       "\n",
       "            2022  Unnamed: 67  \n",
       "0       106445.0          NaN  \n",
       "1    720839314.0          NaN  \n",
       "2     41128771.0          NaN  \n",
       "3    490330870.0          NaN  \n",
       "4     35588987.0          NaN  \n",
       "..           ...          ...  \n",
       "261    1761985.0          NaN  \n",
       "262   33696614.0          NaN  \n",
       "263   59893885.0          NaN  \n",
       "264   20017675.0          NaN  \n",
       "265   16320537.0          NaN  \n",
       "\n",
       "[266 rows x 68 columns]"
      ]
     },
     "execution_count": 3,
     "metadata": {},
     "output_type": "execute_result"
    }
   ],
   "source": [
    "#import population size\n",
    "dta = pd.read_csv('pop_size.csv',skiprows= 4)\n",
    "display(dta.columns)\n",
    "dta"
   ]
  },
  {
   "cell_type": "code",
   "execution_count": 5,
   "id": "ccfe8849-516e-496e-9d71-9f8c5827b870",
   "metadata": {},
   "outputs": [
    {
     "data": {
      "text/html": [
       "<div>\n",
       "<style scoped>\n",
       "    .dataframe tbody tr th:only-of-type {\n",
       "        vertical-align: middle;\n",
       "    }\n",
       "\n",
       "    .dataframe tbody tr th {\n",
       "        vertical-align: top;\n",
       "    }\n",
       "\n",
       "    .dataframe thead th {\n",
       "        text-align: right;\n",
       "    }\n",
       "</style>\n",
       "<table border=\"1\" class=\"dataframe\">\n",
       "  <thead>\n",
       "    <tr style=\"text-align: right;\">\n",
       "      <th></th>\n",
       "      <th>Country Name</th>\n",
       "      <th>Country Code</th>\n",
       "      <th>Indicator Name</th>\n",
       "      <th>Indicator Code</th>\n",
       "      <th>1960</th>\n",
       "      <th>1961</th>\n",
       "      <th>1962</th>\n",
       "      <th>1963</th>\n",
       "      <th>1964</th>\n",
       "      <th>1965</th>\n",
       "      <th>...</th>\n",
       "      <th>2014</th>\n",
       "      <th>2015</th>\n",
       "      <th>2016</th>\n",
       "      <th>2017</th>\n",
       "      <th>2018</th>\n",
       "      <th>2019</th>\n",
       "      <th>2020</th>\n",
       "      <th>2021</th>\n",
       "      <th>2022</th>\n",
       "      <th>Unnamed: 67</th>\n",
       "    </tr>\n",
       "  </thead>\n",
       "  <tbody>\n",
       "    <tr>\n",
       "      <th>0</th>\n",
       "      <td>Aruba</td>\n",
       "      <td>ABW</td>\n",
       "      <td>Population, total</td>\n",
       "      <td>SP.POP.TOTL</td>\n",
       "      <td>54608.0</td>\n",
       "      <td>55811.0</td>\n",
       "      <td>56682.0</td>\n",
       "      <td>57475.0</td>\n",
       "      <td>58178.0</td>\n",
       "      <td>58782.0</td>\n",
       "      <td>...</td>\n",
       "      <td>103594.0</td>\n",
       "      <td>104257.0</td>\n",
       "      <td>104874.0</td>\n",
       "      <td>105439.0</td>\n",
       "      <td>105962.0</td>\n",
       "      <td>106442.0</td>\n",
       "      <td>106585.0</td>\n",
       "      <td>106537.0</td>\n",
       "      <td>106445.0</td>\n",
       "      <td>NaN</td>\n",
       "    </tr>\n",
       "    <tr>\n",
       "      <th>1</th>\n",
       "      <td>Africa Eastern and Southern</td>\n",
       "      <td>AFE</td>\n",
       "      <td>Population, total</td>\n",
       "      <td>SP.POP.TOTL</td>\n",
       "      <td>130692579.0</td>\n",
       "      <td>134169237.0</td>\n",
       "      <td>137835590.0</td>\n",
       "      <td>141630546.0</td>\n",
       "      <td>145605995.0</td>\n",
       "      <td>149742351.0</td>\n",
       "      <td>...</td>\n",
       "      <td>583651101.0</td>\n",
       "      <td>600008424.0</td>\n",
       "      <td>616377605.0</td>\n",
       "      <td>632746570.0</td>\n",
       "      <td>649757148.0</td>\n",
       "      <td>667242986.0</td>\n",
       "      <td>685112979.0</td>\n",
       "      <td>702977106.0</td>\n",
       "      <td>720839314.0</td>\n",
       "      <td>NaN</td>\n",
       "    </tr>\n",
       "    <tr>\n",
       "      <th>2</th>\n",
       "      <td>Afghanistan</td>\n",
       "      <td>AFG</td>\n",
       "      <td>Population, total</td>\n",
       "      <td>SP.POP.TOTL</td>\n",
       "      <td>8622466.0</td>\n",
       "      <td>8790140.0</td>\n",
       "      <td>8969047.0</td>\n",
       "      <td>9157465.0</td>\n",
       "      <td>9355514.0</td>\n",
       "      <td>9565147.0</td>\n",
       "      <td>...</td>\n",
       "      <td>32716210.0</td>\n",
       "      <td>33753499.0</td>\n",
       "      <td>34636207.0</td>\n",
       "      <td>35643418.0</td>\n",
       "      <td>36686784.0</td>\n",
       "      <td>37769499.0</td>\n",
       "      <td>38972230.0</td>\n",
       "      <td>40099462.0</td>\n",
       "      <td>41128771.0</td>\n",
       "      <td>NaN</td>\n",
       "    </tr>\n",
       "    <tr>\n",
       "      <th>3</th>\n",
       "      <td>Africa Western and Central</td>\n",
       "      <td>AFW</td>\n",
       "      <td>Population, total</td>\n",
       "      <td>SP.POP.TOTL</td>\n",
       "      <td>97256290.0</td>\n",
       "      <td>99314028.0</td>\n",
       "      <td>101445032.0</td>\n",
       "      <td>103667517.0</td>\n",
       "      <td>105959979.0</td>\n",
       "      <td>108336203.0</td>\n",
       "      <td>...</td>\n",
       "      <td>397855507.0</td>\n",
       "      <td>408690375.0</td>\n",
       "      <td>419778384.0</td>\n",
       "      <td>431138704.0</td>\n",
       "      <td>442646825.0</td>\n",
       "      <td>454306063.0</td>\n",
       "      <td>466189102.0</td>\n",
       "      <td>478185907.0</td>\n",
       "      <td>490330870.0</td>\n",
       "      <td>NaN</td>\n",
       "    </tr>\n",
       "    <tr>\n",
       "      <th>4</th>\n",
       "      <td>Angola</td>\n",
       "      <td>AGO</td>\n",
       "      <td>Population, total</td>\n",
       "      <td>SP.POP.TOTL</td>\n",
       "      <td>5357195.0</td>\n",
       "      <td>5441333.0</td>\n",
       "      <td>5521400.0</td>\n",
       "      <td>5599827.0</td>\n",
       "      <td>5673199.0</td>\n",
       "      <td>5736582.0</td>\n",
       "      <td>...</td>\n",
       "      <td>27128337.0</td>\n",
       "      <td>28127721.0</td>\n",
       "      <td>29154746.0</td>\n",
       "      <td>30208628.0</td>\n",
       "      <td>31273533.0</td>\n",
       "      <td>32353588.0</td>\n",
       "      <td>33428486.0</td>\n",
       "      <td>34503774.0</td>\n",
       "      <td>35588987.0</td>\n",
       "      <td>NaN</td>\n",
       "    </tr>\n",
       "    <tr>\n",
       "      <th>...</th>\n",
       "      <td>...</td>\n",
       "      <td>...</td>\n",
       "      <td>...</td>\n",
       "      <td>...</td>\n",
       "      <td>...</td>\n",
       "      <td>...</td>\n",
       "      <td>...</td>\n",
       "      <td>...</td>\n",
       "      <td>...</td>\n",
       "      <td>...</td>\n",
       "      <td>...</td>\n",
       "      <td>...</td>\n",
       "      <td>...</td>\n",
       "      <td>...</td>\n",
       "      <td>...</td>\n",
       "      <td>...</td>\n",
       "      <td>...</td>\n",
       "      <td>...</td>\n",
       "      <td>...</td>\n",
       "      <td>...</td>\n",
       "      <td>...</td>\n",
       "    </tr>\n",
       "    <tr>\n",
       "      <th>261</th>\n",
       "      <td>Kosovo</td>\n",
       "      <td>XKX</td>\n",
       "      <td>Population, total</td>\n",
       "      <td>SP.POP.TOTL</td>\n",
       "      <td>947000.0</td>\n",
       "      <td>966000.0</td>\n",
       "      <td>994000.0</td>\n",
       "      <td>1022000.0</td>\n",
       "      <td>1050000.0</td>\n",
       "      <td>1078000.0</td>\n",
       "      <td>...</td>\n",
       "      <td>1812771.0</td>\n",
       "      <td>1788196.0</td>\n",
       "      <td>1777557.0</td>\n",
       "      <td>1791003.0</td>\n",
       "      <td>1797085.0</td>\n",
       "      <td>1788878.0</td>\n",
       "      <td>1790133.0</td>\n",
       "      <td>1786038.0</td>\n",
       "      <td>1761985.0</td>\n",
       "      <td>NaN</td>\n",
       "    </tr>\n",
       "    <tr>\n",
       "      <th>262</th>\n",
       "      <td>Yemen, Rep.</td>\n",
       "      <td>YEM</td>\n",
       "      <td>Population, total</td>\n",
       "      <td>SP.POP.TOTL</td>\n",
       "      <td>5542459.0</td>\n",
       "      <td>5646668.0</td>\n",
       "      <td>5753386.0</td>\n",
       "      <td>5860197.0</td>\n",
       "      <td>5973803.0</td>\n",
       "      <td>6097298.0</td>\n",
       "      <td>...</td>\n",
       "      <td>27753304.0</td>\n",
       "      <td>28516545.0</td>\n",
       "      <td>29274002.0</td>\n",
       "      <td>30034389.0</td>\n",
       "      <td>30790513.0</td>\n",
       "      <td>31546691.0</td>\n",
       "      <td>32284046.0</td>\n",
       "      <td>32981641.0</td>\n",
       "      <td>33696614.0</td>\n",
       "      <td>NaN</td>\n",
       "    </tr>\n",
       "    <tr>\n",
       "      <th>263</th>\n",
       "      <td>South Africa</td>\n",
       "      <td>ZAF</td>\n",
       "      <td>Population, total</td>\n",
       "      <td>SP.POP.TOTL</td>\n",
       "      <td>16520441.0</td>\n",
       "      <td>16989464.0</td>\n",
       "      <td>17503133.0</td>\n",
       "      <td>18042215.0</td>\n",
       "      <td>18603097.0</td>\n",
       "      <td>19187194.0</td>\n",
       "      <td>...</td>\n",
       "      <td>54729551.0</td>\n",
       "      <td>55876504.0</td>\n",
       "      <td>56422274.0</td>\n",
       "      <td>56641209.0</td>\n",
       "      <td>57339635.0</td>\n",
       "      <td>58087055.0</td>\n",
       "      <td>58801927.0</td>\n",
       "      <td>59392255.0</td>\n",
       "      <td>59893885.0</td>\n",
       "      <td>NaN</td>\n",
       "    </tr>\n",
       "    <tr>\n",
       "      <th>264</th>\n",
       "      <td>Zambia</td>\n",
       "      <td>ZMB</td>\n",
       "      <td>Population, total</td>\n",
       "      <td>SP.POP.TOTL</td>\n",
       "      <td>3119430.0</td>\n",
       "      <td>3219451.0</td>\n",
       "      <td>3323427.0</td>\n",
       "      <td>3431381.0</td>\n",
       "      <td>3542764.0</td>\n",
       "      <td>3658024.0</td>\n",
       "      <td>...</td>\n",
       "      <td>15737793.0</td>\n",
       "      <td>16248230.0</td>\n",
       "      <td>16767761.0</td>\n",
       "      <td>17298054.0</td>\n",
       "      <td>17835893.0</td>\n",
       "      <td>18380477.0</td>\n",
       "      <td>18927715.0</td>\n",
       "      <td>19473125.0</td>\n",
       "      <td>20017675.0</td>\n",
       "      <td>NaN</td>\n",
       "    </tr>\n",
       "    <tr>\n",
       "      <th>265</th>\n",
       "      <td>Zimbabwe</td>\n",
       "      <td>ZWE</td>\n",
       "      <td>Population, total</td>\n",
       "      <td>SP.POP.TOTL</td>\n",
       "      <td>3806310.0</td>\n",
       "      <td>3925952.0</td>\n",
       "      <td>4049778.0</td>\n",
       "      <td>4177931.0</td>\n",
       "      <td>4310332.0</td>\n",
       "      <td>4447149.0</td>\n",
       "      <td>...</td>\n",
       "      <td>13855753.0</td>\n",
       "      <td>14154937.0</td>\n",
       "      <td>14452704.0</td>\n",
       "      <td>14751101.0</td>\n",
       "      <td>15052184.0</td>\n",
       "      <td>15354608.0</td>\n",
       "      <td>15669666.0</td>\n",
       "      <td>15993524.0</td>\n",
       "      <td>16320537.0</td>\n",
       "      <td>NaN</td>\n",
       "    </tr>\n",
       "  </tbody>\n",
       "</table>\n",
       "<p>266 rows × 68 columns</p>\n",
       "</div>"
      ],
      "text/plain": [
       "                    Country Name Country Code     Indicator Name  \\\n",
       "0                          Aruba          ABW  Population, total   \n",
       "1    Africa Eastern and Southern          AFE  Population, total   \n",
       "2                    Afghanistan          AFG  Population, total   \n",
       "3     Africa Western and Central          AFW  Population, total   \n",
       "4                         Angola          AGO  Population, total   \n",
       "..                           ...          ...                ...   \n",
       "261                       Kosovo          XKX  Population, total   \n",
       "262                  Yemen, Rep.          YEM  Population, total   \n",
       "263                 South Africa          ZAF  Population, total   \n",
       "264                       Zambia          ZMB  Population, total   \n",
       "265                     Zimbabwe          ZWE  Population, total   \n",
       "\n",
       "    Indicator Code         1960         1961         1962         1963  \\\n",
       "0      SP.POP.TOTL      54608.0      55811.0      56682.0      57475.0   \n",
       "1      SP.POP.TOTL  130692579.0  134169237.0  137835590.0  141630546.0   \n",
       "2      SP.POP.TOTL    8622466.0    8790140.0    8969047.0    9157465.0   \n",
       "3      SP.POP.TOTL   97256290.0   99314028.0  101445032.0  103667517.0   \n",
       "4      SP.POP.TOTL    5357195.0    5441333.0    5521400.0    5599827.0   \n",
       "..             ...          ...          ...          ...          ...   \n",
       "261    SP.POP.TOTL     947000.0     966000.0     994000.0    1022000.0   \n",
       "262    SP.POP.TOTL    5542459.0    5646668.0    5753386.0    5860197.0   \n",
       "263    SP.POP.TOTL   16520441.0   16989464.0   17503133.0   18042215.0   \n",
       "264    SP.POP.TOTL    3119430.0    3219451.0    3323427.0    3431381.0   \n",
       "265    SP.POP.TOTL    3806310.0    3925952.0    4049778.0    4177931.0   \n",
       "\n",
       "            1964         1965  ...         2014         2015         2016  \\\n",
       "0        58178.0      58782.0  ...     103594.0     104257.0     104874.0   \n",
       "1    145605995.0  149742351.0  ...  583651101.0  600008424.0  616377605.0   \n",
       "2      9355514.0    9565147.0  ...   32716210.0   33753499.0   34636207.0   \n",
       "3    105959979.0  108336203.0  ...  397855507.0  408690375.0  419778384.0   \n",
       "4      5673199.0    5736582.0  ...   27128337.0   28127721.0   29154746.0   \n",
       "..           ...          ...  ...          ...          ...          ...   \n",
       "261    1050000.0    1078000.0  ...    1812771.0    1788196.0    1777557.0   \n",
       "262    5973803.0    6097298.0  ...   27753304.0   28516545.0   29274002.0   \n",
       "263   18603097.0   19187194.0  ...   54729551.0   55876504.0   56422274.0   \n",
       "264    3542764.0    3658024.0  ...   15737793.0   16248230.0   16767761.0   \n",
       "265    4310332.0    4447149.0  ...   13855753.0   14154937.0   14452704.0   \n",
       "\n",
       "            2017         2018         2019         2020         2021  \\\n",
       "0       105439.0     105962.0     106442.0     106585.0     106537.0   \n",
       "1    632746570.0  649757148.0  667242986.0  685112979.0  702977106.0   \n",
       "2     35643418.0   36686784.0   37769499.0   38972230.0   40099462.0   \n",
       "3    431138704.0  442646825.0  454306063.0  466189102.0  478185907.0   \n",
       "4     30208628.0   31273533.0   32353588.0   33428486.0   34503774.0   \n",
       "..           ...          ...          ...          ...          ...   \n",
       "261    1791003.0    1797085.0    1788878.0    1790133.0    1786038.0   \n",
       "262   30034389.0   30790513.0   31546691.0   32284046.0   32981641.0   \n",
       "263   56641209.0   57339635.0   58087055.0   58801927.0   59392255.0   \n",
       "264   17298054.0   17835893.0   18380477.0   18927715.0   19473125.0   \n",
       "265   14751101.0   15052184.0   15354608.0   15669666.0   15993524.0   \n",
       "\n",
       "            2022  Unnamed: 67  \n",
       "0       106445.0          NaN  \n",
       "1    720839314.0          NaN  \n",
       "2     41128771.0          NaN  \n",
       "3    490330870.0          NaN  \n",
       "4     35588987.0          NaN  \n",
       "..           ...          ...  \n",
       "261    1761985.0          NaN  \n",
       "262   33696614.0          NaN  \n",
       "263   59893885.0          NaN  \n",
       "264   20017675.0          NaN  \n",
       "265   16320537.0          NaN  \n",
       "\n",
       "[266 rows x 68 columns]"
      ]
     },
     "execution_count": 5,
     "metadata": {},
     "output_type": "execute_result"
    }
   ],
   "source": [
    "dta"
   ]
  },
  {
   "cell_type": "code",
   "execution_count": 6,
   "id": "476a9281-95e0-41b3-b84f-d7348a89e934",
   "metadata": {},
   "outputs": [],
   "source": [
    "#clean up\n",
    "dta = dta.drop(columns=['Country Name','Indicator Name', 'Indicator Code','Unnamed: 67'])\n",
    "dta = dta.rename(columns= {'Country Code':'iso'})\n",
    "dta = dta.melt(id_vars='iso',var_name='year_id',value_name='pop_size')\n",
    "dta['year_id'] = dta['year_id'].astype(str).astype(int)\n",
    "\n",
    "## only years from 1990 onwards\n",
    "dta = dta.loc[dta['year_id'] >= 1990]\n",
    "dta = dta.loc[dta['year_id'] <= 2019]\n",
    "#only countries in SSA\n",
    "dta = dta.loc[dta['iso'].isin(['AGO', 'BDI', 'BEN', 'BFA', 'BWA', 'CAF', 'CIV', 'CMR', 'COD',\n",
    "       'COG', 'COM', 'CPV', 'DJI', 'ERI', 'ETH', 'GAB', 'GHA', 'GIN',\n",
    "       'GMB', 'GNB', 'GNQ', 'KEN', 'LBR', 'LSO', 'MDG', 'MLI', 'MOZ',\n",
    "       'MRT', 'MWI', 'NAM', 'NER', 'NGA', 'RWA', 'SDN', 'SEN', 'SLE',\n",
    "       'SOM', 'SSD', 'STP', 'SWZ', 'TCD', 'TGO', 'TZA', 'UGA', 'ZAF',\n",
    "       'ZMB', 'ZWE'])]\n",
    "\n",
    "#save\n",
    "dta.to_csv('data_pop_size.csv')"
   ]
  },
  {
   "cell_type": "code",
   "execution_count": null,
   "id": "d18471b9-ce72-41aa-8b95-c3239816b84d",
   "metadata": {},
   "outputs": [],
   "source": [
    "display(custom_describe(data_dah))\n",
    "display(custom_describe(data_uhc))"
   ]
  },
  {
   "cell_type": "code",
   "execution_count": null,
   "id": "e5dffac7-dac3-4bfd-8df3-245837b1d035",
   "metadata": {},
   "outputs": [],
   "source": [
    "custom_describe(data_wdi)"
   ]
  },
  {
   "cell_type": "code",
   "execution_count": null,
   "id": "536bb968-de53-4eb3-89f5-22da560fd662",
   "metadata": {},
   "outputs": [],
   "source": [
    "display(custom_describe(data_wash))\n",
    "display(custom_describe(data_disaster))\n",
    "display(custom_describe(data_vn))"
   ]
  }
 ],
 "metadata": {
  "kernelspec": {
   "display_name": "Python 3 (ipykernel)",
   "language": "python",
   "name": "python3"
  },
  "language_info": {
   "codemirror_mode": {
    "name": "ipython",
    "version": 3
   },
   "file_extension": ".py",
   "mimetype": "text/x-python",
   "name": "python",
   "nbconvert_exporter": "python",
   "pygments_lexer": "ipython3",
   "version": "3.9.13"
  }
 },
 "nbformat": 4,
 "nbformat_minor": 5
}
